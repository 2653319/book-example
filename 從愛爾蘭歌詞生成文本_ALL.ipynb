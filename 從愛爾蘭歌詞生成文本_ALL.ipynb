{
  "cells": [
    {
      "cell_type": "markdown",
      "metadata": {
        "id": "view-in-github",
        "colab_type": "text"
      },
      "source": [
        "<a href=\"https://colab.research.google.com/github/2653319/book-example/blob/main/%E5%BE%9E%E6%84%9B%E7%88%BE%E8%98%AD%E6%AD%8C%E8%A9%9E%E7%94%9F%E6%88%90%E6%96%87%E6%9C%AC_ALL.ipynb\" target=\"_parent\"><img src=\"https://colab.research.google.com/assets/colab-badge.svg\" alt=\"Open In Colab\"/></a>"
      ]
    },
    {
      "cell_type": "markdown",
      "metadata": {
        "id": "Eb1y-RAUWGZ8"
      },
      "source": [
        "<a href=\"https://colab.research.google.com/github/https-deeplearning-ai/tensorflow-1-public/blob/master/C3/W4/ungraded_labs/C3_W4_Lab_2_irish_lyrics.ipynb\" target=\"_parent\"><img src=\"https://colab.research.google.com/assets/colab-badge.svg\" alt=\"Open In Colab\"/></a>"
      ]
    },
    {
      "cell_type": "markdown",
      "metadata": {
        "id": "SqIxQYm8h06Z"
      },
      "source": [
        "# Ungraded Lab：從愛爾蘭歌詞生成文本\n",
        "\n",
        "在之前的實驗室中，您只用一首歌曲訓練了一個模型。您可能已經發現輸出文本很快就會變得亂碼或重複。即使您調整了超參數，該模型仍然會受到其僅 263 個單詞的詞彙量的限制。如果您在更大的語料庫上訓練該模型，它將更加靈活，這就是您將在本實驗室中所做的事情。您將使用更多愛爾蘭歌曲的歌詞，然後查看生成的文本的樣子。您還將看到這如何影響從數據準備到模型訓練的過程。讓我們開始吧！"
      ]
    },
    {
      "cell_type": "markdown",
      "metadata": {
        "id": "wb1mfOvch4Sv"
      },
      "source": [
        "## Imports"
      ]
    },
    {
      "cell_type": "code",
      "execution_count": null,
      "metadata": {
        "id": "BOwsuGQQY9OL"
      },
      "outputs": [],
      "source": [
        "import tensorflow as tf\n",
        "import numpy as np \n",
        "\n",
        "from tensorflow.keras.preprocessing.sequence import pad_sequences\n",
        "from tensorflow.keras.layers import Embedding, LSTM, Dense, Bidirectional\n",
        "from tensorflow.keras.preprocessing.text import Tokenizer\n",
        "from tensorflow.keras.models import Sequential\n",
        "from tensorflow.keras.optimizers import Adam"
      ]
    },
    {
      "cell_type": "markdown",
      "metadata": {
        "id": "jmBFI788pOXx"
      },
      "source": [
        "## 構建單詞詞彙表\n",
        "\n",
        "您將首先下載歌詞數據集。這些將來自傳統愛爾蘭歌曲的彙編，您可以在 [這裡](https://github.com/https-deeplearning-ai/tensorflow-1-public/blob/main/C3/W4/misc/Laurences_generated_poetry) 看到它們。文本文件）。"
      ]
    },
    {
      "cell_type": "code",
      "execution_count": null,
      "metadata": {
        "id": "pylt5qZYsWPh",
        "colab": {
          "base_uri": "https://localhost:8080/"
        },
        "outputId": "4af83e36-e68f-4dd0-fe66-f77450e1a071"
      },
      "outputs": [
        {
          "output_type": "stream",
          "name": "stdout",
          "text": [
            "--2022-05-10 08:36:47--  https://storage.googleapis.com/tensorflow-1-public/course3/irish-lyrics-eof.txt\n",
            "Resolving storage.googleapis.com (storage.googleapis.com)... 74.125.195.128, 142.250.99.128, 173.194.202.128, ...\n",
            "Connecting to storage.googleapis.com (storage.googleapis.com)|74.125.195.128|:443... connected.\n",
            "HTTP request sent, awaiting response... 200 OK\n",
            "Length: 68970 (67K) [text/plain]\n",
            "Saving to: ‘irish-lyrics-eof.txt’\n",
            "\n",
            "\rirish-lyrics-eof.tx   0%[                    ]       0  --.-KB/s               \rirish-lyrics-eof.tx 100%[===================>]  67.35K  --.-KB/s    in 0.001s  \n",
            "\n",
            "2022-05-10 08:36:48 (86.1 MB/s) - ‘irish-lyrics-eof.txt’ saved [68970/68970]\n",
            "\n"
          ]
        }
      ],
      "source": [
        "# Download the dataset\n",
        "!wget https://storage.googleapis.com/tensorflow-1-public/course3/irish-lyrics-eof.txt"
      ]
    },
    {
      "cell_type": "markdown",
      "metadata": {
        "id": "-v6JYQGNPXCW"
      },
      "source": [
        "\n",
        "接下來，您將小寫並將純文本拆分為句子列表："
      ]
    },
    {
      "cell_type": "code",
      "execution_count": null,
      "metadata": {
        "id": "LKOO7DFCPX3L",
        "colab": {
          "base_uri": "https://localhost:8080/"
        },
        "outputId": "8f19d0c4-767e-454e-e445-2d136a01d9dc"
      },
      "outputs": [
        {
          "output_type": "stream",
          "name": "stdout",
          "text": [
            "['你好，今天過的好嗎?', '學習自然語言']\n"
          ]
        }
      ],
      "source": [
        "# Load the dataset\n",
        "data = open('./irish-lyrics-eof.txt').read()\n",
        "\n",
        "# Lowercase and split the text\n",
        "corpus = data.lower().split(\"\\n\")\n",
        "corpus = ['你好，今天過的好嗎?','學習自然語言']\n",
        "# Preview the result\n",
        "print(corpus)"
      ]
    },
    {
      "cell_type": "markdown",
      "metadata": {
        "id": "EkP2CP0qP8RD"
      },
      "source": [
        "\n",
        "從這裡，您可以初始化 `Tokenizer` 類並生成單詞索引字典："
      ]
    },
    {
      "cell_type": "code",
      "execution_count": null,
      "metadata": {
        "id": "PRnDnCW-Z7qv",
        "colab": {
          "base_uri": "https://localhost:8080/"
        },
        "outputId": "63cf9ce9-bedb-407d-ad65-9bc33564c209"
      },
      "outputs": [
        {
          "output_type": "stream",
          "name": "stdout",
          "text": [
            "word index dictionary: {'你好，今天過的好嗎': 1, '學習自然語言': 2}\n",
            "total words: 3\n"
          ]
        }
      ],
      "source": [
        "# Initialize the Tokenizer class\n",
        "tokenizer = Tokenizer()\n",
        "\n",
        "# Generate the word index dictionary\n",
        "tokenizer.fit_on_texts(corpus)\n",
        "\n",
        "# 定義總字數。您為索引“0”添加 1，這只是填充標記。\n",
        "total_words = len(tokenizer.word_index) + 1\n",
        "\n",
        "print(f'word index dictionary: {tokenizer.word_index}')\n",
        "print(f'total words: {total_words}')"
      ]
    },
    {
      "cell_type": "markdown",
      "metadata": {
        "id": "JK29FzZ7QW-4"
      },
      "source": [
        "## 預處理數據集\n",
        "\n",
        "接下來，您將為模型生成輸入和標籤。該過程將與之前的實驗室相同。 `xs` 或模型的輸入將是填充序列，而 `ys` 或標籤是 one-hot 編碼數組。"
      ]
    },
    {
      "cell_type": "code",
      "execution_count": null,
      "metadata": {
        "id": "soPGVheskaQP"
      },
      "outputs": [],
      "source": [
        "# 初始化序列列表\n",
        "input_sequences = []\n",
        "\n",
        "# 循環遍歷每一行\n",
        "for line in corpus:\n",
        "\n",
        "\t# 標記當前行\n",
        "\ttoken_list = tokenizer.texts_to_sequences([line])[0]\n",
        "\n",
        "\t# 循環多次以生成子短語\n",
        "\tfor i in range(1, len(token_list)):\n",
        "\t\t\n",
        "\t\t# 生成副詞\n",
        "\t\tn_gram_sequence = token_list[:i+1]\n",
        "\n",
        "\t\t# 將副短語附加到序列列表\n",
        "\t\tinput_sequences.append(n_gram_sequence)\n",
        "\n",
        "# 獲取最長線的長度\n",
        "max_sequence_len = max([len(x) for x in input_sequences])\n",
        "\n",
        "# 填充所有序列\n",
        "input_sequences = np.array(pad_sequences(input_sequences, maxlen=max_sequence_len, padding='pre'))\n",
        "\n",
        "# 通過拆分子短語中的最後一個標記來創建輸入和標籤\n",
        "xs, labels = input_sequences[:,:-1],input_sequences[:,-1]\n",
        "\n",
        "# 將標籤轉換為 one-hot 數組\n",
        "ys = tf.keras.utils.to_categorical(labels, num_classes=total_words)"
      ]
    },
    {
      "cell_type": "markdown",
      "metadata": {
        "id": "TmWHCO0dQGlZ"
      },
      "source": [
        "然後，您可以打印一些示例作為完整性檢查。"
      ]
    },
    {
      "cell_type": "code",
      "execution_count": null,
      "metadata": {
        "id": "pJtwVB2NbOAP",
        "colab": {
          "base_uri": "https://localhost:8080/"
        },
        "outputId": "89ea36b4-323e-4560-ebd0-bbc66dbb1788"
      },
      "outputs": [
        {
          "output_type": "stream",
          "name": "stdout",
          "text": [
            "sample sentence: ['come', 'all', 'ye', 'maidens', 'young', 'and', 'fair']\n",
            "[51, 12, 96, 1217, 48, 2, 69]\n"
          ]
        }
      ],
      "source": [
        "# Get sample sentence\n",
        "sentence = corpus[0].split()\n",
        "print(f'sample sentence: {sentence}')\n",
        "\n",
        "# Initialize token list\n",
        "token_list = []\n",
        "\n",
        "# Look up the indices of each word and append to the list\n",
        "for word in sentence: \n",
        "  token_list.append(tokenizer.word_index[word])\n",
        "\n",
        "# Print the token list\n",
        "print(token_list)"
      ]
    },
    {
      "cell_type": "code",
      "execution_count": null,
      "metadata": {
        "id": "lMr6kKfzROlW",
        "colab": {
          "base_uri": "https://localhost:8080/"
        },
        "outputId": "3c7389f5-aec0-4d07-d163-f40d188aa50e"
      },
      "outputs": [
        {
          "output_type": "stream",
          "name": "stdout",
          "text": [
            "token list: [   0    0    0    0    0    0    0    0    0   51   12   96 1217   48\n",
            "    2]\n",
            "decoded to text: ['come all ye maidens young and']\n",
            "one-hot label: [0. 0. 0. ... 0. 0. 0.]\n",
            "index of label: 69\n"
          ]
        }
      ],
      "source": [
        "# Pick element\n",
        "elem_number = 5\n",
        "\n",
        "# Print token list and phrase\n",
        "print(f'token list: {xs[elem_number]}')\n",
        "print(f'decoded to text: {tokenizer.sequences_to_texts([xs[elem_number]])}')\n",
        "\n",
        "# Print label\n",
        "print(f'one-hot label: {ys[elem_number]}')\n",
        "print(f'index of label: {np.argmax(ys[elem_number])}')"
      ]
    },
    {
      "cell_type": "code",
      "execution_count": null,
      "metadata": {
        "id": "49Cv68JOakwv",
        "colab": {
          "base_uri": "https://localhost:8080/"
        },
        "outputId": "58e31dba-66c1-45a1-e87e-4744bf2aafb7"
      },
      "outputs": [
        {
          "output_type": "stream",
          "name": "stdout",
          "text": [
            "token list: [   0    0    0    0    0    0    0    0    0    0   51   12   96 1217\n",
            "   48]\n",
            "decoded to text: ['come all ye maidens young']\n",
            "one-hot label: [0. 0. 1. ... 0. 0. 0.]\n",
            "index of label: 2\n"
          ]
        }
      ],
      "source": [
        "# Pick element\n",
        "elem_number = 4\n",
        "\n",
        "# Print token list and phrase\n",
        "print(f'token list: {xs[elem_number]}')\n",
        "print(f'decoded to text: {tokenizer.sequences_to_texts([xs[elem_number]])}')\n",
        "\n",
        "# Print label\n",
        "print(f'one-hot label: {ys[elem_number]}')\n",
        "print(f'index of label: {np.argmax(ys[elem_number])}')"
      ]
    },
    {
      "cell_type": "markdown",
      "metadata": {
        "id": "VKWWUZm5VPG9"
      },
      "source": [
        "## 構建和編譯模型\n",
        "\n",
        "接下來，您將構建和編譯模型。我們將一些超參數放在代碼單元的頂部，以便您以後可以根據需要輕鬆調整它。"
      ]
    },
    {
      "cell_type": "code",
      "execution_count": null,
      "metadata": {
        "id": "w9vH8Y59ajYL",
        "colab": {
          "base_uri": "https://localhost:8080/"
        },
        "outputId": "d658ac66-0bcc-4b41-fb1c-a86ef4772163"
      },
      "outputs": [
        {
          "output_type": "stream",
          "name": "stdout",
          "text": [
            "Model: \"sequential\"\n",
            "_________________________________________________________________\n",
            " Layer (type)                Output Shape              Param #   \n",
            "=================================================================\n",
            " embedding (Embedding)       (None, 15, 100)           269000    \n",
            "                                                                 \n",
            " bidirectional (Bidirectiona  (None, 300)              301200    \n",
            " l)                                                              \n",
            "                                                                 \n",
            " dense (Dense)               (None, 2690)              809690    \n",
            "                                                                 \n",
            "=================================================================\n",
            "Total params: 1,379,890\n",
            "Trainable params: 1,379,890\n",
            "Non-trainable params: 0\n",
            "_________________________________________________________________\n"
          ]
        }
      ],
      "source": [
        "# Hyperparameters\n",
        "embedding_dim = 100\n",
        "lstm_units = 150\n",
        "learning_rate = 0.01\n",
        "\n",
        "# Build the model\n",
        "model = Sequential([\n",
        "          Embedding(total_words, embedding_dim, input_length=max_sequence_len-1),\n",
        "          Bidirectional(LSTM(lstm_units)),\n",
        "          Dense(total_words, activation='softmax')\n",
        "])\n",
        "\n",
        "# 使用分類交叉熵，因為這是一個多類問題\n",
        "model.compile(\n",
        "    loss='categorical_crossentropy', \n",
        "    optimizer=tf.keras.optimizers.Adam(learning_rate=learning_rate), \n",
        "    metrics=['accuracy']\n",
        "    )\n",
        "\n",
        "# Print the model summary\n",
        "model.summary()"
      ]
    },
    {
      "cell_type": "code",
      "source": [
        "xs.shape"
      ],
      "metadata": {
        "colab": {
          "base_uri": "https://localhost:8080/"
        },
        "id": "lV4z8MCuX8Ad",
        "outputId": "c9071269-eeaa-4410-b61d-8c5bd18e5b90"
      },
      "execution_count": null,
      "outputs": [
        {
          "output_type": "execute_result",
          "data": {
            "text/plain": [
              "(12038, 15)"
            ]
          },
          "metadata": {},
          "execution_count": 10
        }
      ]
    },
    {
      "cell_type": "code",
      "source": [
        "ys.shape"
      ],
      "metadata": {
        "colab": {
          "base_uri": "https://localhost:8080/"
        },
        "id": "jPXoAt6dX9TB",
        "outputId": "44d68e80-c6e8-41b3-db5f-2ca70c52bd85"
      },
      "execution_count": null,
      "outputs": [
        {
          "output_type": "execute_result",
          "data": {
            "text/plain": [
              "(12038, 2690)"
            ]
          },
          "metadata": {},
          "execution_count": 11
        }
      ]
    },
    {
      "cell_type": "markdown",
      "metadata": {
        "id": "OpI0d9cfR43c"
      },
      "source": [
        "## 訓練模型\n",
        "\n",
        "從上面的模型摘要中，您會注意到可訓練參數的數量比之前實驗室中的要大得多。因此，這通常意味著更慢的訓練時間。在 Colab 中啟用 GPU 的情況下，每個 epoch 大約需要 7 秒，並且在 100 個 epoch 後您將達到大約 76% 的準確度。"
      ]
    },
    {
      "cell_type": "code",
      "execution_count": null,
      "metadata": {
        "id": "Nc4zC7C4jJpN",
        "colab": {
          "base_uri": "https://localhost:8080/"
        },
        "outputId": "db2db3ce-7967-48ae-8ec2-a5760fec660d"
      },
      "outputs": [
        {
          "output_type": "stream",
          "name": "stdout",
          "text": [
            "Epoch 1/100\n",
            "377/377 [==============================] - 16s 19ms/step - loss: 6.6670 - accuracy: 0.0724\n",
            "Epoch 2/100\n",
            "377/377 [==============================] - 7s 18ms/step - loss: 5.7769 - accuracy: 0.1137\n",
            "Epoch 3/100\n",
            "377/377 [==============================] - 7s 19ms/step - loss: 4.9108 - accuracy: 0.1668\n",
            "Epoch 4/100\n",
            "377/377 [==============================] - 7s 19ms/step - loss: 4.0179 - accuracy: 0.2330\n",
            "Epoch 5/100\n",
            "377/377 [==============================] - 7s 20ms/step - loss: 3.2028 - accuracy: 0.3285\n",
            "Epoch 6/100\n",
            "377/377 [==============================] - 7s 19ms/step - loss: 2.5793 - accuracy: 0.4248\n",
            "Epoch 7/100\n",
            "377/377 [==============================] - 7s 19ms/step - loss: 2.1250 - accuracy: 0.5039\n",
            "Epoch 8/100\n",
            "377/377 [==============================] - 7s 18ms/step - loss: 1.7503 - accuracy: 0.5850\n",
            "Epoch 9/100\n",
            "377/377 [==============================] - 7s 19ms/step - loss: 1.4814 - accuracy: 0.6375\n",
            "Epoch 10/100\n",
            "377/377 [==============================] - 7s 19ms/step - loss: 1.3663 - accuracy: 0.6678\n",
            "Epoch 11/100\n",
            "377/377 [==============================] - 7s 19ms/step - loss: 1.1726 - accuracy: 0.7118\n",
            "Epoch 12/100\n",
            "377/377 [==============================] - 7s 18ms/step - loss: 1.0535 - accuracy: 0.7421\n",
            "Epoch 13/100\n",
            "377/377 [==============================] - 7s 19ms/step - loss: 0.9930 - accuracy: 0.7564\n",
            "Epoch 14/100\n",
            "377/377 [==============================] - 7s 18ms/step - loss: 1.0409 - accuracy: 0.7395\n",
            "Epoch 15/100\n",
            "377/377 [==============================] - 7s 18ms/step - loss: 1.1237 - accuracy: 0.7117\n",
            "Epoch 16/100\n",
            "377/377 [==============================] - 7s 19ms/step - loss: 1.2399 - accuracy: 0.6842\n",
            "Epoch 17/100\n",
            "377/377 [==============================] - 7s 18ms/step - loss: 1.3498 - accuracy: 0.6575\n",
            "Epoch 18/100\n",
            "377/377 [==============================] - 7s 18ms/step - loss: 1.1450 - accuracy: 0.7053\n",
            "Epoch 19/100\n",
            "377/377 [==============================] - 7s 18ms/step - loss: 1.0029 - accuracy: 0.7395\n",
            "Epoch 20/100\n",
            "377/377 [==============================] - 7s 19ms/step - loss: 0.8959 - accuracy: 0.7682\n",
            "Epoch 21/100\n",
            "377/377 [==============================] - 7s 18ms/step - loss: 0.8274 - accuracy: 0.7874\n",
            "Epoch 22/100\n",
            "377/377 [==============================] - 7s 18ms/step - loss: 0.7955 - accuracy: 0.7978\n",
            "Epoch 23/100\n",
            "377/377 [==============================] - 7s 19ms/step - loss: 0.8230 - accuracy: 0.7876\n",
            "Epoch 24/100\n",
            "377/377 [==============================] - 7s 19ms/step - loss: 0.9998 - accuracy: 0.7422\n",
            "Epoch 25/100\n",
            "377/377 [==============================] - 7s 19ms/step - loss: 1.3439 - accuracy: 0.6603\n",
            "Epoch 26/100\n",
            "377/377 [==============================] - 7s 19ms/step - loss: 1.3581 - accuracy: 0.6573\n",
            "Epoch 27/100\n",
            "377/377 [==============================] - 7s 19ms/step - loss: 1.1669 - accuracy: 0.6982\n",
            "Epoch 28/100\n",
            "377/377 [==============================] - 7s 19ms/step - loss: 1.0420 - accuracy: 0.7274\n",
            "Epoch 29/100\n",
            "377/377 [==============================] - 7s 18ms/step - loss: 0.9256 - accuracy: 0.7578\n",
            "Epoch 30/100\n",
            "377/377 [==============================] - 7s 19ms/step - loss: 0.8958 - accuracy: 0.7729\n",
            "Epoch 31/100\n",
            "377/377 [==============================] - 7s 19ms/step - loss: 0.8636 - accuracy: 0.7781\n",
            "Epoch 32/100\n",
            "377/377 [==============================] - 7s 19ms/step - loss: 0.9326 - accuracy: 0.7636\n",
            "Epoch 33/100\n",
            "377/377 [==============================] - 7s 19ms/step - loss: 1.0311 - accuracy: 0.7301\n",
            "Epoch 34/100\n",
            "377/377 [==============================] - 7s 19ms/step - loss: 1.1834 - accuracy: 0.6971\n",
            "Epoch 35/100\n",
            "377/377 [==============================] - 7s 19ms/step - loss: 1.1359 - accuracy: 0.7065\n",
            "Epoch 36/100\n",
            "377/377 [==============================] - 7s 19ms/step - loss: 1.0346 - accuracy: 0.7329\n",
            "Epoch 37/100\n",
            "377/377 [==============================] - 7s 19ms/step - loss: 0.9631 - accuracy: 0.7505\n",
            "Epoch 38/100\n",
            "377/377 [==============================] - 7s 19ms/step - loss: 0.9398 - accuracy: 0.7546\n",
            "Epoch 39/100\n",
            "377/377 [==============================] - 7s 19ms/step - loss: 0.8994 - accuracy: 0.7650\n",
            "Epoch 40/100\n",
            "377/377 [==============================] - 7s 19ms/step - loss: 0.8998 - accuracy: 0.7662\n",
            "Epoch 41/100\n",
            "377/377 [==============================] - 7s 18ms/step - loss: 0.8932 - accuracy: 0.7675\n",
            "Epoch 42/100\n",
            "377/377 [==============================] - 7s 19ms/step - loss: 0.9199 - accuracy: 0.7610\n",
            "Epoch 43/100\n",
            "377/377 [==============================] - 7s 19ms/step - loss: 0.9397 - accuracy: 0.7569\n",
            "Epoch 44/100\n",
            "377/377 [==============================] - 7s 18ms/step - loss: 0.9645 - accuracy: 0.7475\n",
            "Epoch 45/100\n",
            "377/377 [==============================] - 7s 19ms/step - loss: 1.0152 - accuracy: 0.7349\n",
            "Epoch 46/100\n",
            "377/377 [==============================] - 7s 18ms/step - loss: 1.0912 - accuracy: 0.7206\n",
            "Epoch 47/100\n",
            "377/377 [==============================] - 7s 19ms/step - loss: 1.0017 - accuracy: 0.7392\n",
            "Epoch 48/100\n",
            "377/377 [==============================] - 7s 18ms/step - loss: 0.9745 - accuracy: 0.7443\n",
            "Epoch 49/100\n",
            "377/377 [==============================] - 7s 19ms/step - loss: 1.0266 - accuracy: 0.7387\n",
            "Epoch 50/100\n",
            "377/377 [==============================] - 7s 18ms/step - loss: 0.9515 - accuracy: 0.7521\n",
            "Epoch 51/100\n",
            "377/377 [==============================] - 7s 19ms/step - loss: 0.9494 - accuracy: 0.7517\n",
            "Epoch 52/100\n",
            "377/377 [==============================] - 7s 19ms/step - loss: 0.9325 - accuracy: 0.7575\n",
            "Epoch 53/100\n",
            "377/377 [==============================] - 7s 19ms/step - loss: 0.9163 - accuracy: 0.7662\n",
            "Epoch 54/100\n",
            "377/377 [==============================] - 7s 19ms/step - loss: 0.9445 - accuracy: 0.7607\n",
            "Epoch 55/100\n",
            "377/377 [==============================] - 7s 19ms/step - loss: 0.9199 - accuracy: 0.7617\n",
            "Epoch 56/100\n",
            "377/377 [==============================] - 7s 19ms/step - loss: 0.9187 - accuracy: 0.7679\n",
            "Epoch 57/100\n",
            "377/377 [==============================] - 7s 18ms/step - loss: 0.8946 - accuracy: 0.7675\n",
            "Epoch 58/100\n",
            "377/377 [==============================] - 7s 18ms/step - loss: 0.9475 - accuracy: 0.7549\n",
            "Epoch 59/100\n",
            "377/377 [==============================] - 7s 18ms/step - loss: 0.9411 - accuracy: 0.7561\n",
            "Epoch 60/100\n",
            "377/377 [==============================] - 7s 19ms/step - loss: 0.9311 - accuracy: 0.7569\n",
            "Epoch 61/100\n",
            "377/377 [==============================] - 7s 18ms/step - loss: 0.8848 - accuracy: 0.7679\n",
            "Epoch 62/100\n",
            "377/377 [==============================] - 7s 19ms/step - loss: 0.8770 - accuracy: 0.7770\n",
            "Epoch 63/100\n",
            "377/377 [==============================] - 7s 19ms/step - loss: 0.9864 - accuracy: 0.7526\n",
            "Epoch 64/100\n",
            "377/377 [==============================] - 7s 19ms/step - loss: 1.0117 - accuracy: 0.7414\n",
            "Epoch 65/100\n",
            "377/377 [==============================] - 7s 18ms/step - loss: 1.0336 - accuracy: 0.7353\n",
            "Epoch 66/100\n",
            "377/377 [==============================] - 7s 19ms/step - loss: 1.0426 - accuracy: 0.7363\n",
            "Epoch 67/100\n",
            "377/377 [==============================] - 7s 19ms/step - loss: 0.9798 - accuracy: 0.7514\n",
            "Epoch 68/100\n",
            "377/377 [==============================] - 7s 19ms/step - loss: 0.9447 - accuracy: 0.7573\n",
            "Epoch 69/100\n",
            "377/377 [==============================] - 7s 19ms/step - loss: 0.9095 - accuracy: 0.7707\n",
            "Epoch 70/100\n",
            "377/377 [==============================] - 7s 18ms/step - loss: 0.9018 - accuracy: 0.7705\n",
            "Epoch 71/100\n",
            "377/377 [==============================] - 7s 18ms/step - loss: 0.9132 - accuracy: 0.7700\n",
            "Epoch 72/100\n",
            "377/377 [==============================] - 7s 19ms/step - loss: 0.9183 - accuracy: 0.7672\n",
            "Epoch 73/100\n",
            "377/377 [==============================] - 7s 19ms/step - loss: 0.9403 - accuracy: 0.7600\n",
            "Epoch 74/100\n",
            "377/377 [==============================] - 7s 19ms/step - loss: 0.9985 - accuracy: 0.7436\n",
            "Epoch 75/100\n",
            "377/377 [==============================] - 7s 19ms/step - loss: 0.9565 - accuracy: 0.7574\n",
            "Epoch 76/100\n",
            "377/377 [==============================] - 7s 19ms/step - loss: 1.0103 - accuracy: 0.7499\n",
            "Epoch 77/100\n",
            "377/377 [==============================] - 7s 19ms/step - loss: 0.9743 - accuracy: 0.7529\n",
            "Epoch 78/100\n",
            "377/377 [==============================] - 7s 18ms/step - loss: 0.9701 - accuracy: 0.7534\n",
            "Epoch 79/100\n",
            "377/377 [==============================] - 7s 18ms/step - loss: 0.9748 - accuracy: 0.7536\n",
            "Epoch 80/100\n",
            "377/377 [==============================] - 7s 18ms/step - loss: 0.9567 - accuracy: 0.7549\n",
            "Epoch 81/100\n",
            "377/377 [==============================] - 7s 18ms/step - loss: 0.9609 - accuracy: 0.7588\n",
            "Epoch 82/100\n",
            "377/377 [==============================] - 7s 18ms/step - loss: 0.9179 - accuracy: 0.7666\n",
            "Epoch 83/100\n",
            "377/377 [==============================] - 7s 19ms/step - loss: 0.8944 - accuracy: 0.7679\n",
            "Epoch 84/100\n",
            "377/377 [==============================] - 7s 18ms/step - loss: 0.9535 - accuracy: 0.7611\n",
            "Epoch 85/100\n",
            "377/377 [==============================] - 7s 19ms/step - loss: 0.9914 - accuracy: 0.7495\n",
            "Epoch 86/100\n",
            "377/377 [==============================] - 7s 19ms/step - loss: 0.9771 - accuracy: 0.7484\n",
            "Epoch 87/100\n",
            "377/377 [==============================] - 7s 18ms/step - loss: 0.9806 - accuracy: 0.7514\n",
            "Epoch 88/100\n",
            "377/377 [==============================] - 7s 18ms/step - loss: 0.9851 - accuracy: 0.7535\n",
            "Epoch 89/100\n",
            "377/377 [==============================] - 7s 19ms/step - loss: 0.9666 - accuracy: 0.7543\n",
            "Epoch 90/100\n",
            "377/377 [==============================] - 7s 18ms/step - loss: 0.9447 - accuracy: 0.7564\n",
            "Epoch 91/100\n",
            "377/377 [==============================] - 7s 19ms/step - loss: 0.9474 - accuracy: 0.7659\n",
            "Epoch 92/100\n",
            "377/377 [==============================] - 7s 18ms/step - loss: 0.9360 - accuracy: 0.7623\n",
            "Epoch 93/100\n",
            "377/377 [==============================] - 7s 18ms/step - loss: 0.9644 - accuracy: 0.7574\n",
            "Epoch 94/100\n",
            "377/377 [==============================] - 7s 19ms/step - loss: 0.9567 - accuracy: 0.7557\n",
            "Epoch 95/100\n",
            "377/377 [==============================] - 7s 19ms/step - loss: 0.8883 - accuracy: 0.7747\n",
            "Epoch 96/100\n",
            "377/377 [==============================] - 7s 18ms/step - loss: 0.8813 - accuracy: 0.7778\n",
            "Epoch 97/100\n",
            "377/377 [==============================] - 7s 19ms/step - loss: 0.8925 - accuracy: 0.7755\n",
            "Epoch 98/100\n",
            "377/377 [==============================] - 7s 18ms/step - loss: 0.8913 - accuracy: 0.7701\n",
            "Epoch 99/100\n",
            "377/377 [==============================] - 7s 19ms/step - loss: 0.8897 - accuracy: 0.7727\n",
            "Epoch 100/100\n",
            "377/377 [==============================] - 7s 19ms/step - loss: 0.9334 - accuracy: 0.7640\n"
          ]
        }
      ],
      "source": [
        "epochs = 100\n",
        "\n",
        "# Train the model\n",
        "history = model.fit(xs, ys, epochs=epochs)"
      ]
    },
    {
      "cell_type": "markdown",
      "metadata": {
        "id": "WgAzLnLATFts"
      },
      "source": [
        "您可以在下面可視化準確度，以了解它如何隨著訓練的進行而波動。"
      ]
    },
    {
      "cell_type": "code",
      "execution_count": null,
      "metadata": {
        "id": "3YXGelKThoTT",
        "colab": {
          "base_uri": "https://localhost:8080/",
          "height": 279
        },
        "outputId": "901afeab-6ebf-4dff-bfeb-dd33d287d3d6"
      },
      "outputs": [
        {
          "output_type": "display_data",
          "data": {
            "text/plain": [
              "<Figure size 432x288 with 1 Axes>"
            ],
            "image/png": "[encoded data removed]"
          },
          "metadata": {
            "needs_background": "light"
          }
        }
      ],
      "source": [
        "import matplotlib.pyplot as plt\n",
        "\n",
        "# Plot utility\n",
        "def plot_graphs(history, string):\n",
        "  plt.plot(history.history[string])\n",
        "  plt.xlabel(\"Epochs\")\n",
        "  plt.ylabel(string)\n",
        "  plt.show()\n",
        "\n",
        "# Visualize the accuracy\n",
        "plot_graphs(history, 'accuracy')"
      ]
    },
    {
      "cell_type": "markdown",
      "metadata": {
        "id": "9gxKIcvGTUnw"
      },
      "source": [
        "\n",
        "## 生成文本\n",
        "\n",
        "現在您可以讓模型製作自己的歌曲或詩歌！因為它是在更大的語料庫上訓練的，所以下面的結果應該像以前一樣包含更少的重複。下面的代碼根據最高概率輸出選擇下一個單詞。"
      ]
    },
    {
      "cell_type": "code",
      "execution_count": null,
      "metadata": {
        "id": "6Vc6PHgxa6Hm",
        "colab": {
          "base_uri": "https://localhost:8080/"
        },
        "outputId": "7522fb9a-ab5e-4fa5-a6f6-5d1951fd36a2"
      },
      "outputs": [
        {
          "output_type": "stream",
          "name": "stdout",
          "text": [
            "help me obi-wan kinobi youre my only hope sitting in fray merry divinity much again in tory women and how his pike flashed in your waters so mild a stone youd beguile bare my life away thee might see it goes on gone by in strife steps i leaps i and receiver i wish i could meet me i love a love and i sat i wish you is a delight in sorrow and gone far away from slight a whirligig mary honey shaken i was stole and thinking of athy one jeremy lanigan hill is barney more and late i right any tay black and gathered them\n"
          ]
        }
      ],
      "source": [
        "# Define seed text\n",
        "seed_text = \"help me obi-wan kinobi youre my only hope\"\n",
        "\n",
        "# Define total words to predict\n",
        "next_words = 100\n",
        "\n",
        "# Loop until desired length is reached\n",
        "for _ in range(next_words):\n",
        "\n",
        "\t# Convert the seed text to a token sequence\n",
        "\ttoken_list = tokenizer.texts_to_sequences([seed_text])[0]\n",
        "\n",
        "\t# Pad the sequence\n",
        "\ttoken_list = pad_sequences([token_list], maxlen=max_sequence_len-1, padding='pre')\n",
        "\t\n",
        "\t# Feed to the model and get the probabilities for each index\n",
        "\tprobabilities = model.predict(token_list)\n",
        "\n",
        "\t# Get the index with the highest probability\n",
        "\tpredicted = np.argmax(probabilities, axis=-1)[0]\n",
        "\n",
        "\t# Ignore if index is 0 because that is just the padding.\n",
        "\tif predicted != 0:\n",
        "\t\t\n",
        "\t\t# Look up the word associated with the index. \n",
        "\t\toutput_word = tokenizer.index_word[predicted]\n",
        "\n",
        "\t\t# Combine with the seed text\n",
        "\t\tseed_text += \" \" + output_word\n",
        "\n",
        "# Print the result\t\n",
        "print(seed_text)"
      ]
    },
    {
      "cell_type": "markdown",
      "metadata": {
        "id": "wHtrtAFAT6tn"
      },
      "source": [
        "\n",
        "這裡又是獲取前 3 個預測並隨機選擇一個的代碼."
      ]
    },
    {
      "cell_type": "code",
      "execution_count": null,
      "metadata": {
        "id": "yJfzKm-8mVKD",
        "colab": {
          "base_uri": "https://localhost:8080/"
        },
        "outputId": "5b6d47fe-039c-4e1b-b695-d3e2bec037a2"
      },
      "outputs": [
        {
          "output_type": "stream",
          "name": "stdout",
          "text": [
            "help me obi-wan kinobi youre my only hope sitting in fray erin wid here that dying saw the left old and down side this half dozen to mine dawn drawn till it is creole sons is fresh we were spreading hill ill dew and me to on their dresses all flashed rattling for a foemans ball beside my mothers i ringlets there i made there will times them by down two three long green when i meet a colleen sweet boneless high nice the valley they didnt take me fists and me still fall god on my bride is losing i could gone in ballygrant right house and\n"
          ]
        }
      ],
      "source": [
        "# Define seed text\n",
        "seed_text = \"help me obi-wan kinobi youre my only hope\"\n",
        "\n",
        "# Define total words to predict\n",
        "next_words = 100\n",
        "\n",
        "# Loop until desired length is reached\n",
        "for _ in range(next_words):\n",
        "\n",
        "\t# Convert the seed text to a token sequence\n",
        "  token_list = tokenizer.texts_to_sequences([seed_text])[0]\n",
        "\n",
        "\t# Pad the sequence\n",
        "  token_list = pad_sequences([token_list], maxlen=max_sequence_len-1, padding='pre')\n",
        "\t\n",
        "\t# Feed to the model and get the probabilities for each index\n",
        "  probabilities = model.predict(token_list)\n",
        "\n",
        "  # Pick a random number from [1,2,3]\n",
        "  choice = np.random.choice([1,2,3])\n",
        "\t\n",
        "  # Sort the probabilities in ascending order \n",
        "  # and get the random choice from the end of the array\n",
        "  predicted = np.argsort(probabilities)[0][-choice]\n",
        "\n",
        "\t# Ignore if index is 0 because that is just the padding.\n",
        "  if predicted != 0:\n",
        "\t\t\n",
        "\t\t# Look up the word associated with the index. \n",
        "\t  output_word = tokenizer.index_word[predicted]\n",
        "\n",
        "\t\t# Combine with the seed text\n",
        "\t  seed_text += \" \" + output_word\n",
        "\n",
        "# Print the result\t\n",
        "print(seed_text)"
      ]
    },
    {
      "cell_type": "markdown",
      "metadata": {
        "id": "DP0--sdMUJ_k"
      },
      "source": [
        "##包起來\n",
        "\n",
        "本實驗展示了使用更大的數據集來訓練文本生成模型的效果。正如預期的那樣，這將需要更長的時間來準備和訓練，但輸出不太可能變得重複或亂碼。嘗試調整超參數，看看是否能得到更好的結果。您還可以在此處找到一些其他文本數據集並使用它來訓練模型。"
      ]
    }
  ],
  "metadata": {
    "colab": {
      "collapsed_sections": [],
      "provenance": [],
      "include_colab_link": true
    },
    "kernelspec": {
      "display_name": "Python 3",
      "language": "python",
      "name": "python3"
    },
    "language_info": {
      "codemirror_mode": {
        "name": "ipython",
        "version": 3
      },
      "file_extension": ".py",
      "mimetype": "text/x-python",
      "name": "python",
      "nbconvert_exporter": "python",
      "pygments_lexer": "ipython3",
      "version": "3.7.4"
    }
  },
  "nbformat": 4,
  "nbformat_minor": 0
}
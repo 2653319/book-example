{
  "cells": [
    {
      "cell_type": "markdown",
      "metadata": {
        "id": "view-in-github",
        "colab_type": "text"
      },
      "source": [
        "<a href=\"https://colab.research.google.com/github/2653319/book-example/blob/main/%E4%BD%BF%E7%94%A8%E7%A5%9E%E7%B6%93%E7%B6%B2%E7%B5%A1%E7%94%9F%E6%88%90%E6%96%87%E6%9C%AC.ipynb\" target=\"_parent\"><img src=\"https://colab.research.google.com/assets/colab-badge.svg\" alt=\"Open In Colab\"/></a>"
      ]
    },
    {
      "cell_type": "markdown",
      "metadata": {
        "id": "plxbiOM-Dg-O"
      },
      "source": [
        "<a href=\"https://colab.research.google.com/github/https-deeplearning-ai/tensorflow-1-public/blob/master/C3/W4/ungraded_labs/C3_W4_Lab_1.ipynb\" target=\"_parent\"><img src=\"https://colab.research.google.com/assets/colab-badge.svg\" alt=\"Open In Colab\"/></a>"
      ]
    },
    {
      "cell_type": "markdown",
      "metadata": {
        "id": "4VKWPfcBiYZO"
      },
      "source": [
        "# 未分級實驗室：使用神經網絡生成文本\n",
        "\n",
        "本週，您將了解為文本生成準備數據和構建模型的技術。你將用愛爾蘭歌曲的歌詞訓練一個神經網絡，然後讓它為你製作一首新歌。儘管這聽起來像是一個更複雜的應用程序，但您很快就會發現該過程與您在前幾週使用的過程非常相似。只需要很小的修改。讓我們在接下來的部分中看看這些是什麼。"
      ]
    },
    {
      "cell_type": "markdown",
      "metadata": {
        "id": "SgasH2Bvzds6"
      },
      "source": [
        "## Imports\n",
        "\n",
        "首先，您將導入所需的庫。您已經在之前的實驗中使用過所有這些。"
      ]
    },
    {
      "cell_type": "code",
      "execution_count": null,
      "metadata": {
        "id": "BOwsuGQQY9OL"
      },
      "outputs": [],
      "source": [
        "import tensorflow as tf\n",
        "import numpy as np \n",
        "from tensorflow.keras.layers import Embedding, LSTM, Dense, Bidirectional\n",
        "from tensorflow.keras.models import Sequential\n",
        "from tensorflow.keras.preprocessing.text import Tokenizer\n",
        "from tensorflow.keras.preprocessing.sequence import pad_sequences"
      ]
    },
    {
      "cell_type": "markdown",
      "metadata": {
        "id": "nqSrSYWD0CxU"
      },
      "source": [
        "\n",
        "## 構建單詞詞彙表\n",
        "\n",
        "數據集是愛爾蘭傳統歌曲 [*Lanigan's Ball*](https://en.wikipedia.org/wiki/Lanigan%27s_Ball) 的歌詞。您將每行拆分它，然後使用 `Tokenizer` 類來構建單詞索引字典。"
      ]
    },
    {
      "cell_type": "code",
      "execution_count": null,
      "metadata": {
        "id": "doUCQnYfvsmA",
        "colab": {
          "base_uri": "https://localhost:8080/"
        },
        "outputId": "bc500eb8-bee4-427d-8c83-6880838d4237"
      },
      "outputs": [
        {
          "output_type": "stream",
          "name": "stdout",
          "text": [
            "['in the town of athy one jeremy lanigan ', ' battered away til he hadnt a pound. ', 'his father died and made him a man again ', ' left him a farm and ten acres of ground. ', 'he gave a grand party for friends and relations ', 'who didnt forget him when come to the wall, ', 'and if youll but listen ill make your eyes glisten ', 'of the rows and the ructions of lanigans ball. ', 'myself to be sure got free invitation, ', 'for all the nice girls and boys i might ask, ', 'and just in a minute both friends and relations ', 'were dancing round merry as bees round a cask. ', 'judy odaly, that nice little milliner, ', 'she tipped me a wink for to give her a call, ', 'and i soon arrived with peggy mcgilligan ', 'just in time for lanigans ball. ', 'there were lashings of punch and wine for the ladies, ', 'potatoes and cakes; there was bacon and tea, ', 'there were the nolans, dolans, ogradys ', 'courting the girls and dancing away. ', 'songs they went round as plenty as water, ', 'the harp that once sounded in taras old hall,', 'sweet nelly gray and the rat catchers daughter,', 'all singing together at lanigans ball. ', 'they were doing all kinds of nonsensical polkas ', 'all round the room in a whirligig. ', 'julia and i, we banished their nonsense ', 'and tipped them the twist of a reel and a jig. ', 'ach mavrone, how the girls got all mad at me ', 'danced til youd think the ceiling would fall. ', 'for i spent three weeks at brooks academy ', 'learning new steps for lanigans ball. ', 'three long weeks i spent up in dublin, ', 'three long weeks to learn nothing at all,', ' three long weeks i spent up in dublin, ', 'learning new steps for lanigans ball. ', 'she stepped out and i stepped in again, ', 'i stepped out and she stepped in again, ', 'she stepped out and i stepped in again, ', 'learning new steps for lanigans ball. ', 'boys were all merry and the girls they were hearty ', 'and danced all around in couples and groups, ', 'til an accident happened, young terrance mccarthy ', 'put his right leg through miss finnertys hoops. ', 'poor creature fainted and cried meelia murther, ', 'called for her brothers and gathered them all. ', 'carmody swore that hed go no further ', 'til he had satisfaction at lanigans ball. ', 'in the midst of the row miss kerrigan fainted, ', 'her cheeks at the same time as red as a rose. ', 'some of the lads declared she was painted, ', 'she took a small drop too much, i suppose. ', 'her sweetheart, ned morgan, so powerful and able, ', 'when he saw his fair colleen stretched out by the wall, ', 'tore the left leg from under the table ', 'and smashed all the chaneys at lanigans ball. ', 'boys, oh boys, twas then there were runctions. ', 'myself got a lick from big phelim mchugh. ', 'i soon replied to his introduction ', 'and kicked up a terrible hullabaloo. ', 'old casey, the piper, was near being strangled. ', 'they squeezed up his pipes, bellows, chanters and all. ', 'the girls, in their ribbons, they got all entangled ', 'and that put an end to lanigans ball.']\n"
          ]
        }
      ],
      "source": [
        "# Define the lyrics of the song\n",
        "data=\"In the town of Athy one Jeremy Lanigan \\n Battered away til he hadnt a pound. \\nHis father died and made him a man again \\n Left him a farm and ten acres of ground. \\nHe gave a grand party for friends and relations \\nWho didnt forget him when come to the wall, \\nAnd if youll but listen Ill make your eyes glisten \\nOf the rows and the ructions of Lanigans Ball. \\nMyself to be sure got free invitation, \\nFor all the nice girls and boys I might ask, \\nAnd just in a minute both friends and relations \\nWere dancing round merry as bees round a cask. \\nJudy ODaly, that nice little milliner, \\nShe tipped me a wink for to give her a call, \\nAnd I soon arrived with Peggy McGilligan \\nJust in time for Lanigans Ball. \\nThere were lashings of punch and wine for the ladies, \\nPotatoes and cakes; there was bacon and tea, \\nThere were the Nolans, Dolans, OGradys \\nCourting the girls and dancing away. \\nSongs they went round as plenty as water, \\nThe harp that once sounded in Taras old hall,\\nSweet Nelly Gray and The Rat Catchers Daughter,\\nAll singing together at Lanigans Ball. \\nThey were doing all kinds of nonsensical polkas \\nAll round the room in a whirligig. \\nJulia and I, we banished their nonsense \\nAnd tipped them the twist of a reel and a jig. \\nAch mavrone, how the girls got all mad at me \\nDanced til youd think the ceiling would fall. \\nFor I spent three weeks at Brooks Academy \\nLearning new steps for Lanigans Ball. \\nThree long weeks I spent up in Dublin, \\nThree long weeks to learn nothing at all,\\n Three long weeks I spent up in Dublin, \\nLearning new steps for Lanigans Ball. \\nShe stepped out and I stepped in again, \\nI stepped out and she stepped in again, \\nShe stepped out and I stepped in again, \\nLearning new steps for Lanigans Ball. \\nBoys were all merry and the girls they were hearty \\nAnd danced all around in couples and groups, \\nTil an accident happened, young Terrance McCarthy \\nPut his right leg through miss Finnertys hoops. \\nPoor creature fainted and cried Meelia murther, \\nCalled for her brothers and gathered them all. \\nCarmody swore that hed go no further \\nTil he had satisfaction at Lanigans Ball. \\nIn the midst of the row miss Kerrigan fainted, \\nHer cheeks at the same time as red as a rose. \\nSome of the lads declared she was painted, \\nShe took a small drop too much, I suppose. \\nHer sweetheart, Ned Morgan, so powerful and able, \\nWhen he saw his fair colleen stretched out by the wall, \\nTore the left leg from under the table \\nAnd smashed all the Chaneys at Lanigans Ball. \\nBoys, oh boys, twas then there were runctions. \\nMyself got a lick from big Phelim McHugh. \\nI soon replied to his introduction \\nAnd kicked up a terrible hullabaloo. \\nOld Casey, the piper, was near being strangled. \\nThey squeezed up his pipes, bellows, chanters and all. \\nThe girls, in their ribbons, they got all entangled \\nAnd that put an end to Lanigans Ball.\"\n",
        "\n",
        "# Split the long string per line and put in a list\n",
        "corpus = data.lower().split(\"\\n\")\n",
        "\n",
        "# Preview the result\n",
        "print(corpus)"
      ]
    },
    {
      "cell_type": "code",
      "execution_count": null,
      "metadata": {
        "id": "PRnDnCW-Z7qv",
        "colab": {
          "base_uri": "https://localhost:8080/"
        },
        "outputId": "114a306f-f828-4934-ab03-6ba364fd9216"
      },
      "outputs": [
        {
          "output_type": "stream",
          "name": "stdout",
          "text": [
            "word index dictionary: {'and': 1, 'the': 2, 'a': 3, 'in': 4, 'all': 5, 'i': 6, 'for': 7, 'of': 8, 'lanigans': 9, 'ball': 10, 'were': 11, 'at': 12, 'to': 13, 'she': 14, 'stepped': 15, 'his': 16, 'girls': 17, 'as': 18, 'they': 19, 'til': 20, 'he': 21, 'again': 22, 'got': 23, 'boys': 24, 'round': 25, 'that': 26, 'her': 27, 'there': 28, 'three': 29, 'weeks': 30, 'up': 31, 'out': 32, 'him': 33, 'was': 34, 'spent': 35, 'learning': 36, 'new': 37, 'steps': 38, 'long': 39, 'away': 40, 'left': 41, 'friends': 42, 'relations': 43, 'when': 44, 'wall': 45, 'myself': 46, 'nice': 47, 'just': 48, 'dancing': 49, 'merry': 50, 'tipped': 51, 'me': 52, 'soon': 53, 'time': 54, 'old': 55, 'their': 56, 'them': 57, 'danced': 58, 'dublin': 59, 'an': 60, 'put': 61, 'leg': 62, 'miss': 63, 'fainted': 64, 'from': 65, 'town': 66, 'athy': 67, 'one': 68, 'jeremy': 69, 'lanigan': 70, 'battered': 71, 'hadnt': 72, 'pound': 73, 'father': 74, 'died': 75, 'made': 76, 'man': 77, 'farm': 78, 'ten': 79, 'acres': 80, 'ground': 81, 'gave': 82, 'grand': 83, 'party': 84, 'who': 85, 'didnt': 86, 'forget': 87, 'come': 88, 'if': 89, 'youll': 90, 'but': 91, 'listen': 92, 'ill': 93, 'make': 94, 'your': 95, 'eyes': 96, 'glisten': 97, 'rows': 98, 'ructions': 99, 'be': 100, 'sure': 101, 'free': 102, 'invitation': 103, 'might': 104, 'ask': 105, 'minute': 106, 'both': 107, 'bees': 108, 'cask': 109, 'judy': 110, 'odaly': 111, 'little': 112, 'milliner': 113, 'wink': 114, 'give': 115, 'call': 116, 'arrived': 117, 'with': 118, 'peggy': 119, 'mcgilligan': 120, 'lashings': 121, 'punch': 122, 'wine': 123, 'ladies': 124, 'potatoes': 125, 'cakes': 126, 'bacon': 127, 'tea': 128, 'nolans': 129, 'dolans': 130, 'ogradys': 131, 'courting': 132, 'songs': 133, 'went': 134, 'plenty': 135, 'water': 136, 'harp': 137, 'once': 138, 'sounded': 139, 'taras': 140, 'hall': 141, 'sweet': 142, 'nelly': 143, 'gray': 144, 'rat': 145, 'catchers': 146, 'daughter': 147, 'singing': 148, 'together': 149, 'doing': 150, 'kinds': 151, 'nonsensical': 152, 'polkas': 153, 'room': 154, 'whirligig': 155, 'julia': 156, 'we': 157, 'banished': 158, 'nonsense': 159, 'twist': 160, 'reel': 161, 'jig': 162, 'ach': 163, 'mavrone': 164, 'how': 165, 'mad': 166, 'youd': 167, 'think': 168, 'ceiling': 169, 'would': 170, 'fall': 171, 'brooks': 172, 'academy': 173, 'learn': 174, 'nothing': 175, 'hearty': 176, 'around': 177, 'couples': 178, 'groups': 179, 'accident': 180, 'happened': 181, 'young': 182, 'terrance': 183, 'mccarthy': 184, 'right': 185, 'through': 186, 'finnertys': 187, 'hoops': 188, 'poor': 189, 'creature': 190, 'cried': 191, 'meelia': 192, 'murther': 193, 'called': 194, 'brothers': 195, 'gathered': 196, 'carmody': 197, 'swore': 198, 'hed': 199, 'go': 200, 'no': 201, 'further': 202, 'had': 203, 'satisfaction': 204, 'midst': 205, 'row': 206, 'kerrigan': 207, 'cheeks': 208, 'same': 209, 'red': 210, 'rose': 211, 'some': 212, 'lads': 213, 'declared': 214, 'painted': 215, 'took': 216, 'small': 217, 'drop': 218, 'too': 219, 'much': 220, 'suppose': 221, 'sweetheart': 222, 'ned': 223, 'morgan': 224, 'so': 225, 'powerful': 226, 'able': 227, 'saw': 228, 'fair': 229, 'colleen': 230, 'stretched': 231, 'by': 232, 'tore': 233, 'under': 234, 'table': 235, 'smashed': 236, 'chaneys': 237, 'oh': 238, 'twas': 239, 'then': 240, 'runctions': 241, 'lick': 242, 'big': 243, 'phelim': 244, 'mchugh': 245, 'replied': 246, 'introduction': 247, 'kicked': 248, 'terrible': 249, 'hullabaloo': 250, 'casey': 251, 'piper': 252, 'near': 253, 'being': 254, 'strangled': 255, 'squeezed': 256, 'pipes': 257, 'bellows': 258, 'chanters': 259, 'ribbons': 260, 'entangled': 261, 'end': 262}\n",
            "total words: 263\n"
          ]
        }
      ],
      "source": [
        "# Initialize the Tokenizer class\n",
        "tokenizer = Tokenizer()\n",
        "\n",
        "# Generate the word index dictionary\n",
        "tokenizer.fit_on_texts(corpus)\n",
        "\n",
        "# 定義總字數。您為索引“0”添加 1，這只是填充標記。\n",
        "total_words = len(tokenizer.word_index) + 1\n",
        "\n",
        "print(f'word index dictionary: {tokenizer.word_index}')\n",
        "print(f'total words: {total_words}')"
      ]
    },
    {
      "cell_type": "markdown",
      "metadata": {
        "id": "mBE10Hx_0PA_"
      },
      "source": [
        "## 預處理數據集\n",
        "\n",
        "接下來，您將生成訓練序列及其標籤。正如講座中所討論的，您將獲取歌曲的每一行並從中生成輸入和標籤。例如，如果您只有一個句子：“I am using Tensorflow”，您希望模型在給定這句話的任何子短語的情況下學習下一個詞：\n",
        "\n",
        "```\n",
        "INPUT              LABEL\n",
        "-----------------------------\n",
        "I             ---> am\n",
        "I am          ---> using\n",
        "I am using    ---> Tensorflow\n",
        "```\n",
        "\n",
        "下一個單元格顯示瞭如何在代碼中實現這個概念。結果將是作為填充序列的輸入，以及作為 one-hot 編碼數組的標籤。"
      ]
    },
    {
      "cell_type": "code",
      "source": [
        "a = tokenizer.texts_to_sequences(corpus)"
      ],
      "metadata": {
        "id": "ThFBqAc3xtHB"
      },
      "execution_count": null,
      "outputs": []
    },
    {
      "cell_type": "code",
      "source": [
        "a[:3]"
      ],
      "metadata": {
        "colab": {
          "base_uri": "https://localhost:8080/"
        },
        "id": "MTsP3HQtyBAB",
        "outputId": "4d92f15a-fb85-4c54-c391-9edfe8305072"
      },
      "execution_count": null,
      "outputs": [
        {
          "output_type": "execute_result",
          "data": {
            "text/plain": [
              "[[4, 2, 66, 8, 67, 68, 69, 70],\n",
              " [71, 40, 20, 21, 72, 3, 73],\n",
              " [16, 74, 75, 1, 76, 33, 3, 77, 22]]"
            ]
          },
          "metadata": {},
          "execution_count": 75
        }
      ]
    },
    {
      "cell_type": "code",
      "source": [
        "a = tokenizer.texts_to_sequences(corpus)[0]"
      ],
      "metadata": {
        "id": "isyl5pHu0GKS"
      },
      "execution_count": null,
      "outputs": []
    },
    {
      "cell_type": "code",
      "source": [
        "a"
      ],
      "metadata": {
        "colab": {
          "base_uri": "https://localhost:8080/"
        },
        "id": "XdNEUU350HoI",
        "outputId": "1f6c12b5-b79b-4b0c-d13b-79a7e4a6ae50"
      },
      "execution_count": null,
      "outputs": [
        {
          "output_type": "execute_result",
          "data": {
            "text/plain": [
              "[4, 2, 66, 8, 67, 68, 69, 70]"
            ]
          },
          "metadata": {},
          "execution_count": 77
        }
      ]
    },
    {
      "cell_type": "code",
      "source": [
        "for line2 in corpus:\n",
        "\n",
        "\t# 標記當前行\n",
        "\ttoken_list2 = tokenizer.texts_to_sequences([line2])[0]\n",
        "  #token_list2 = tokenizer.texts_to_sequences([line2])"
      ],
      "metadata": {
        "id": "QqGykFzKy-gJ"
      },
      "execution_count": null,
      "outputs": []
    },
    {
      "cell_type": "code",
      "source": [
        "print(token_list2)"
      ],
      "metadata": {
        "colab": {
          "base_uri": "https://localhost:8080/"
        },
        "id": "_eIPsyHCzLVq",
        "outputId": "7d518d72-3ee6-4f8c-a654-c733832b1277"
      },
      "execution_count": null,
      "outputs": [
        {
          "output_type": "stream",
          "name": "stdout",
          "text": [
            "[1, 26, 61, 60, 262, 13, 9, 10]\n"
          ]
        }
      ]
    },
    {
      "cell_type": "code",
      "source": [
        "print(token_list2)\n"
      ],
      "metadata": {
        "colab": {
          "base_uri": "https://localhost:8080/"
        },
        "id": "vfJShzcXzV2E",
        "outputId": "8acab389-aa65-4bb3-df6e-2b4dce1135d0"
      },
      "execution_count": null,
      "outputs": [
        {
          "output_type": "stream",
          "name": "stdout",
          "text": [
            "[1, 26, 61, 60, 262, 13, 9, 10]\n"
          ]
        }
      ]
    },
    {
      "cell_type": "code",
      "execution_count": null,
      "metadata": {
        "id": "soPGVheskaQP"
      },
      "outputs": [],
      "source": [
        "# Initialize the sequences list\n",
        "input_sequences = []\n",
        "\n",
        "# Loop over every line\n",
        "for line in corpus:\n",
        "\n",
        "\t# 標記當前行\n",
        "\ttoken_list = tokenizer.texts_to_sequences([line])[0]\n",
        "\t#print(token_list)\n",
        "\t# 循環多次以生成子短語\n",
        "\tfor i in range(1, len(token_list)):\n",
        "\t\t\n",
        "\t\t# 生成副詞\n",
        "\t\tn_gram_sequence = token_list[:i+1]\n",
        "\n",
        "\t\t# 將副短語附加到序列列表\n",
        "\t\tinput_sequences.append(n_gram_sequence)\n",
        "\n",
        "# 獲取最長線的長度\n",
        "max_sequence_len = max([len(x) for x in input_sequences])\n",
        "\n",
        "# 填充所有序列\n",
        "input_sequences = np.array(pad_sequences(input_sequences, maxlen=max_sequence_len, padding='pre'))\n",
        "\n",
        "# 通過拆分子短語中的最後一個標記來創建輸入和標籤\n",
        "xs, labels = input_sequences[:,:-1],input_sequences[:,-1]\n",
        "\n",
        "# 將標籤轉換為 one-hot 數組\n",
        "ys = tf.keras.utils.to_categorical(labels, num_classes=total_words)"
      ]
    },
    {
      "cell_type": "code",
      "source": [
        "input_sequences"
      ],
      "metadata": {
        "colab": {
          "base_uri": "https://localhost:8080/"
        },
        "id": "fhhRGfUj0YkH",
        "outputId": "fde40455-b1f6-483d-faef-e6040dce7953"
      },
      "execution_count": null,
      "outputs": [
        {
          "output_type": "execute_result",
          "data": {
            "text/plain": [
              "array([[  0,   0,   0, ...,   0,   4,   2],\n",
              "       [  0,   0,   0, ...,   4,   2,  66],\n",
              "       [  0,   0,   0, ...,   2,  66,   8],\n",
              "       ...,\n",
              "       [  0,   0,   0, ...,  60, 262,  13],\n",
              "       [  0,   0,   0, ..., 262,  13,   9],\n",
              "       [  0,   0,   0, ...,  13,   9,  10]], dtype=int32)"
            ]
          },
          "metadata": {},
          "execution_count": 82
        }
      ]
    },
    {
      "cell_type": "code",
      "source": [
        "input_sequences[:,:-1]"
      ],
      "metadata": {
        "colab": {
          "base_uri": "https://localhost:8080/"
        },
        "id": "6XykzmEGxeEI",
        "outputId": "b293fd36-150c-44a7-e243-371442139c2e"
      },
      "execution_count": null,
      "outputs": [
        {
          "output_type": "execute_result",
          "data": {
            "text/plain": [
              "array([[  0,   0,   0, ...,   0,   0,   4],\n",
              "       [  0,   0,   0, ...,   0,   4,   2],\n",
              "       [  0,   0,   0, ...,   4,   2,  66],\n",
              "       ...,\n",
              "       [  0,   0,   0, ...,  61,  60, 262],\n",
              "       [  0,   0,   0, ...,  60, 262,  13],\n",
              "       [  0,   0,   0, ..., 262,  13,   9]], dtype=int32)"
            ]
          },
          "metadata": {},
          "execution_count": 83
        }
      ]
    },
    {
      "cell_type": "code",
      "source": [
        "input_sequences[:,-1]"
      ],
      "metadata": {
        "colab": {
          "base_uri": "https://localhost:8080/"
        },
        "id": "jdiAkA140U94",
        "outputId": "3cf6ff60-63d7-4448-a9a1-5b5ca33f878b"
      },
      "execution_count": null,
      "outputs": [
        {
          "output_type": "execute_result",
          "data": {
            "text/plain": [
              "array([  2,  66,   8,  67,  68,  69,  70,  40,  20,  21,  72,   3,  73,\n",
              "        74,  75,   1,  76,  33,   3,  77,  22,  33,   3,  78,   1,  79,\n",
              "        80,   8,  81,  82,   3,  83,  84,   7,  42,   1,  43,  86,  87,\n",
              "        33,  44,  88,  13,   2,  45,  89,  90,  91,  92,  93,  94,  95,\n",
              "        96,  97,   2,  98,   1,   2,  99,   8,   9,  10,  13, 100, 101,\n",
              "        23, 102, 103,   5,   2,  47,  17,   1,  24,   6, 104, 105,  48,\n",
              "         4,   3, 106, 107,  42,   1,  43,  49,  25,  50,  18, 108,  25,\n",
              "         3, 109, 111,  26,  47, 112, 113,  51,  52,   3, 114,   7,  13,\n",
              "       115,  27,   3, 116,   6,  53, 117, 118, 119, 120,   4,  54,   7,\n",
              "         9,  10,  11, 121,   8, 122,   1, 123,   7,   2, 124,   1, 126,\n",
              "        28,  34, 127,   1, 128,  11,   2, 129, 130, 131,   2,  17,   1,\n",
              "        49,  40,  19, 134,  25,  18, 135,  18, 136, 137,  26, 138, 139,\n",
              "         4, 140,  55, 141, 143, 144,   1,   2, 145, 146, 147, 148, 149,\n",
              "        12,   9,  10,  11, 150,   5, 151,   8, 152, 153,  25,   2, 154,\n",
              "         4,   3, 155,   1,   6, 157, 158,  56, 159,  51,  57,   2, 160,\n",
              "         8,   3, 161,   1,   3, 162, 164, 165,   2,  17,  23,   5, 166,\n",
              "        12,  52,  20, 167, 168,   2, 169, 170, 171,   6,  35,  29,  30,\n",
              "        12, 172, 173,  37,  38,   7,   9,  10,  39,  30,   6,  35,  31,\n",
              "         4,  59,  39,  30,  13, 174, 175,  12,   5,  39,  30,   6,  35,\n",
              "        31,   4,  59,  37,  38,   7,   9,  10,  15,  32,   1,   6,  15,\n",
              "         4,  22,  15,  32,   1,  14,  15,   4,  22,  15,  32,   1,   6,\n",
              "        15,   4,  22,  37,  38,   7,   9,  10,  11,   5,  50,   1,   2,\n",
              "        17,  19,  11, 176,  58,   5, 177,   4, 178,   1, 179,  60, 180,\n",
              "       181, 182, 183, 184,  16, 185,  62, 186,  63, 187, 188, 190,  64,\n",
              "         1, 191, 192, 193,   7,  27, 195,   1, 196,  57,   5, 198,  26,\n",
              "       199, 200, 201, 202,  21, 203, 204,  12,   9,  10,   2, 205,   8,\n",
              "         2, 206,  63, 207,  64, 208,  12,   2, 209,  54,  18, 210,  18,\n",
              "         3, 211,   8,   2, 213, 214,  14,  34, 215, 216,   3, 217, 218,\n",
              "       219, 220,   6, 221, 222, 223, 224, 225, 226,   1, 227,  21, 228,\n",
              "        16, 229, 230, 231,  32, 232,   2,  45,   2,  41,  62,  65, 234,\n",
              "         2, 235, 236,   5,   2, 237,  12,   9,  10, 238,  24, 239, 240,\n",
              "        28,  11, 241,  23,   3, 242,  65, 243, 244, 245,  53, 246,  13,\n",
              "        16, 247, 248,  31,   3, 249, 250, 251,   2, 252,  34, 253, 254,\n",
              "       255, 256,  31,  16, 257, 258, 259,   1,   5,  17,   4,  56, 260,\n",
              "        19,  23,   5, 261,  26,  61,  60, 262,  13,   9,  10], dtype=int32)"
            ]
          },
          "metadata": {},
          "execution_count": 84
        }
      ]
    },
    {
      "cell_type": "code",
      "source": [
        "ys.shape"
      ],
      "metadata": {
        "colab": {
          "base_uri": "https://localhost:8080/"
        },
        "id": "pBRCGQE90e_p",
        "outputId": "454c13f5-7edb-444d-a944-75cd7ae6eeb5"
      },
      "execution_count": null,
      "outputs": [
        {
          "output_type": "execute_result",
          "data": {
            "text/plain": [
              "(453, 263)"
            ]
          },
          "metadata": {},
          "execution_count": 85
        }
      ]
    },
    {
      "cell_type": "markdown",
      "metadata": {
        "id": "ipaZBkMa9C2Y"
      },
      "source": [
        "讓我們看看歌曲第一行的結果。特定行和預期的令牌序列顯示在下面的單元格中："
      ]
    },
    {
      "cell_type": "code",
      "execution_count": null,
      "metadata": {
        "id": "pJtwVB2NbOAP",
        "colab": {
          "base_uri": "https://localhost:8080/"
        },
        "outputId": "0c2647c5-43b3-444b-88ed-0e70314fec3f"
      },
      "outputs": [
        {
          "output_type": "stream",
          "name": "stdout",
          "text": [
            "sample sentence: ['in', 'the', 'town', 'of', 'athy', 'one', 'jeremy', 'lanigan']\n",
            "[4, 2, 66, 8, 67, 68, 69, 70]\n"
          ]
        }
      ],
      "source": [
        "# Get sample sentence\n",
        "sentence = corpus[0].split()\n",
        "print(f'sample sentence: {sentence}')\n",
        "\n",
        "# Initialize token list\n",
        "token_list = []\n",
        "\n",
        "# 查找每個單詞的索引並附加到列表中\n",
        "for word in sentence: \n",
        "  token_list.append(tokenizer.word_index[word])\n",
        "\n",
        "# Print the token list\n",
        "print(token_list)"
      ]
    },
    {
      "cell_type": "markdown",
      "metadata": {
        "id": "qJHHJAt99Y6P"
      },
      "source": [
        "\n",
        "由於這裡有 8 個標記，您可以期望在您之前生成的 `xs` 的前 7 個元素中找到該特定行。如果我們生成了最長的子短語，那應該在 `xs[6]` 中找到。請參閱下面的填充令牌序列："
      ]
    },
    {
      "cell_type": "code",
      "execution_count": null,
      "metadata": {
        "id": "49Cv68JOakwv",
        "colab": {
          "base_uri": "https://localhost:8080/"
        },
        "outputId": "b99025c6-608b-4dad-cb27-d343616a4bb2"
      },
      "outputs": [
        {
          "output_type": "stream",
          "name": "stdout",
          "text": [
            "token list: [ 0  0  0  4  2 66  8 67 68 69]\n",
            "decoded to text: ['in the town of athy one jeremy']\n"
          ]
        }
      ],
      "source": [
        "# 挑選元素\n",
        "elem_number = 6\n",
        "\n",
        "# Print token list and phrase\n",
        "print(f'token list: {xs[elem_number]}')\n",
        "print(f'decoded to text: {tokenizer.sequences_to_texts([xs[elem_number]])}')\n"
      ]
    },
    {
      "cell_type": "markdown",
      "metadata": {
        "id": "1_Ih_j6L_xFD"
      },
      "source": [
        "如果您打印出標籤，它應該顯示“70”，因為這是短語中的下一個單詞（即“lanigan”）。請參閱下面的 one-hot 編碼形式。您可以使用 [`np.argmax()`](https://numpy.org/doc/stable/reference/generated/numpy.argmax.html) 方法獲取“熱”標籤的索引。"
      ]
    },
    {
      "cell_type": "code",
      "execution_count": null,
      "metadata": {
        "id": "iY-jwvfgbEF8",
        "colab": {
          "base_uri": "https://localhost:8080/"
        },
        "outputId": "ec044a34-ca24-4b46-905d-9919c0db1e2e"
      },
      "outputs": [
        {
          "output_type": "stream",
          "name": "stdout",
          "text": [
            "one-hot label: [0. 0. 0. 0. 0. 0. 0. 0. 0. 0. 0. 0. 0. 0. 0. 0. 0. 0. 0. 0. 0. 0. 0. 0.\n",
            " 0. 0. 0. 0. 0. 0. 0. 0. 0. 0. 0. 0. 0. 0. 0. 0. 0. 0. 0. 0. 0. 0. 0. 0.\n",
            " 0. 0. 0. 0. 0. 0. 0. 0. 0. 0. 0. 0. 0. 0. 0. 0. 0. 0. 0. 0. 0. 0. 1. 0.\n",
            " 0. 0. 0. 0. 0. 0. 0. 0. 0. 0. 0. 0. 0. 0. 0. 0. 0. 0. 0. 0. 0. 0. 0. 0.\n",
            " 0. 0. 0. 0. 0. 0. 0. 0. 0. 0. 0. 0. 0. 0. 0. 0. 0. 0. 0. 0. 0. 0. 0. 0.\n",
            " 0. 0. 0. 0. 0. 0. 0. 0. 0. 0. 0. 0. 0. 0. 0. 0. 0. 0. 0. 0. 0. 0. 0. 0.\n",
            " 0. 0. 0. 0. 0. 0. 0. 0. 0. 0. 0. 0. 0. 0. 0. 0. 0. 0. 0. 0. 0. 0. 0. 0.\n",
            " 0. 0. 0. 0. 0. 0. 0. 0. 0. 0. 0. 0. 0. 0. 0. 0. 0. 0. 0. 0. 0. 0. 0. 0.\n",
            " 0. 0. 0. 0. 0. 0. 0. 0. 0. 0. 0. 0. 0. 0. 0. 0. 0. 0. 0. 0. 0. 0. 0. 0.\n",
            " 0. 0. 0. 0. 0. 0. 0. 0. 0. 0. 0. 0. 0. 0. 0. 0. 0. 0. 0. 0. 0. 0. 0. 0.\n",
            " 0. 0. 0. 0. 0. 0. 0. 0. 0. 0. 0. 0. 0. 0. 0. 0. 0. 0. 0. 0. 0. 0. 0.]\n",
            "index of label: 70\n"
          ]
        }
      ],
      "source": [
        "# Print label\n",
        "print(f'one-hot label: {ys[elem_number]}')\n",
        "print(f'index of label: {np.argmax(ys[elem_number])}')"
      ]
    },
    {
      "cell_type": "markdown",
      "metadata": {
        "id": "qOMge9xdAmjg"
      },
      "source": [
        "如果您在此之前選擇元素，您將看到與上面相同的副短語減去一個單詞："
      ]
    },
    {
      "cell_type": "code",
      "execution_count": null,
      "metadata": {
        "id": "wtzlUMYadhKt",
        "colab": {
          "base_uri": "https://localhost:8080/"
        },
        "outputId": "48591fed-1513-4c6d-85d8-dcb853bf4730"
      },
      "outputs": [
        {
          "output_type": "stream",
          "name": "stdout",
          "text": [
            "token list: [ 0  0  0  0  4  2 66  8 67 68]\n",
            "decoded to text: ['in the town of athy one']\n",
            "one-hot label: [0. 0. 0. 0. 0. 0. 0. 0. 0. 0. 0. 0. 0. 0. 0. 0. 0. 0. 0. 0. 0. 0. 0. 0.\n",
            " 0. 0. 0. 0. 0. 0. 0. 0. 0. 0. 0. 0. 0. 0. 0. 0. 0. 0. 0. 0. 0. 0. 0. 0.\n",
            " 0. 0. 0. 0. 0. 0. 0. 0. 0. 0. 0. 0. 0. 0. 0. 0. 0. 0. 0. 0. 0. 1. 0. 0.\n",
            " 0. 0. 0. 0. 0. 0. 0. 0. 0. 0. 0. 0. 0. 0. 0. 0. 0. 0. 0. 0. 0. 0. 0. 0.\n",
            " 0. 0. 0. 0. 0. 0. 0. 0. 0. 0. 0. 0. 0. 0. 0. 0. 0. 0. 0. 0. 0. 0. 0. 0.\n",
            " 0. 0. 0. 0. 0. 0. 0. 0. 0. 0. 0. 0. 0. 0. 0. 0. 0. 0. 0. 0. 0. 0. 0. 0.\n",
            " 0. 0. 0. 0. 0. 0. 0. 0. 0. 0. 0. 0. 0. 0. 0. 0. 0. 0. 0. 0. 0. 0. 0. 0.\n",
            " 0. 0. 0. 0. 0. 0. 0. 0. 0. 0. 0. 0. 0. 0. 0. 0. 0. 0. 0. 0. 0. 0. 0. 0.\n",
            " 0. 0. 0. 0. 0. 0. 0. 0. 0. 0. 0. 0. 0. 0. 0. 0. 0. 0. 0. 0. 0. 0. 0. 0.\n",
            " 0. 0. 0. 0. 0. 0. 0. 0. 0. 0. 0. 0. 0. 0. 0. 0. 0. 0. 0. 0. 0. 0. 0. 0.\n",
            " 0. 0. 0. 0. 0. 0. 0. 0. 0. 0. 0. 0. 0. 0. 0. 0. 0. 0. 0. 0. 0. 0. 0.]\n",
            "index of label: 69\n"
          ]
        }
      ],
      "source": [
        "# Pick element\n",
        "elem_number = 5\n",
        "\n",
        "# Print token list and phrase\n",
        "print(f'token list: {xs[elem_number]}')\n",
        "print(f'decoded to text: {tokenizer.sequences_to_texts([xs[elem_number]])}')\n",
        "\n",
        "# Print label\n",
        "print(f'one-hot label: {ys[elem_number]}')\n",
        "print(f'index of label: {np.argmax(ys[elem_number])}')"
      ]
    },
    {
      "cell_type": "markdown",
      "metadata": {
        "id": "c6w_I9OUA2D3"
      },
      "source": [
        "\n",
        "## 構建模型\n",
        "\n",
        "接下來，您將使用與以前基本相同的層來構建模型。主要區別在於您將刪除 sigmoid 輸出並改用 softmax 激活的“密集”層。該輸出層將為詞彙表中的每個單詞提供一個神經元。因此，給定一個輸入標記列表，最後一層的輸出數組將具有每個單詞的概率。"
      ]
    },
    {
      "cell_type": "code",
      "execution_count": null,
      "metadata": {
        "id": "w9vH8Y59ajYL",
        "colab": {
          "base_uri": "https://localhost:8080/"
        },
        "outputId": "9cceff64-560e-475b-86be-89c6a9568c0d"
      },
      "outputs": [
        {
          "output_type": "stream",
          "name": "stdout",
          "text": [
            "Model: \"sequential_2\"\n",
            "_________________________________________________________________\n",
            " Layer (type)                Output Shape              Param #   \n",
            "=================================================================\n",
            " embedding_2 (Embedding)     (None, 10, 64)            16832     \n",
            "                                                                 \n",
            " bidirectional_2 (Bidirectio  (None, 40)               13600     \n",
            " nal)                                                            \n",
            "                                                                 \n",
            " dense_2 (Dense)             (None, 263)               10783     \n",
            "                                                                 \n",
            "=================================================================\n",
            "Total params: 41,215\n",
            "Trainable params: 41,215\n",
            "Non-trainable params: 0\n",
            "_________________________________________________________________\n"
          ]
        }
      ],
      "source": [
        "# Build the model\n",
        "model = Sequential([\n",
        "    Embedding(total_words, 64, input_length=max_sequence_len-1), #total_words 字典單字數 input_length -1是因為最後一個單字拿去做標籤\n",
        "    Bidirectional(LSTM(20)),\n",
        "    Dense(total_words, activation='softmax')\n",
        "])\n",
        "\n",
        "# 使用分類交叉熵 categorical_crossentropy，因為這是一個多類問題\n",
        "model.compile(loss='categorical_crossentropy', optimizer='adam', metrics=['accuracy'])\n",
        "\n",
        "# Print the model summary\n",
        "model.summary()"
      ]
    },
    {
      "cell_type": "markdown",
      "metadata": {
        "id": "0Xnb6i2WC_sy"
      },
      "source": [
        "\n",
        "## 訓練模型\n",
        "\n",
        "您現在可以訓練模型。我們的詞彙量相對較小，因此只需幾分鐘即可完成 500 個 epoch。"
      ]
    },
    {
      "cell_type": "code",
      "execution_count": null,
      "metadata": {
        "id": "mF2k2nD9vgsD",
        "colab": {
          "base_uri": "https://localhost:8080/"
        },
        "outputId": "117636ff-3482-4930-8a6e-facd776a1c20"
      },
      "outputs": [
        {
          "output_type": "stream",
          "name": "stdout",
          "text": [
            "Epoch 1/500\n",
            "15/15 [==============================] - 4s 9ms/step - loss: 5.5678 - accuracy: 0.0287\n",
            "Epoch 2/500\n",
            "15/15 [==============================] - 0s 9ms/step - loss: 5.5417 - accuracy: 0.0574\n",
            "Epoch 3/500\n",
            "15/15 [==============================] - 0s 10ms/step - loss: 5.4754 - accuracy: 0.0552\n",
            "Epoch 4/500\n",
            "15/15 [==============================] - 0s 9ms/step - loss: 5.2941 - accuracy: 0.0508\n",
            "Epoch 5/500\n",
            "15/15 [==============================] - 0s 9ms/step - loss: 5.1202 - accuracy: 0.0508\n",
            "Epoch 6/500\n",
            "15/15 [==============================] - 0s 9ms/step - loss: 5.0633 - accuracy: 0.0508\n",
            "Epoch 7/500\n",
            "15/15 [==============================] - 0s 9ms/step - loss: 5.0252 - accuracy: 0.0508\n",
            "Epoch 8/500\n",
            "15/15 [==============================] - 0s 10ms/step - loss: 5.0007 - accuracy: 0.0574\n",
            "Epoch 9/500\n",
            "15/15 [==============================] - 0s 11ms/step - loss: 4.9698 - accuracy: 0.0508\n",
            "Epoch 10/500\n",
            "15/15 [==============================] - 0s 19ms/step - loss: 4.9380 - accuracy: 0.0530\n",
            "Epoch 11/500\n",
            "15/15 [==============================] - 0s 16ms/step - loss: 4.8981 - accuracy: 0.0618\n",
            "Epoch 12/500\n",
            "15/15 [==============================] - 0s 10ms/step - loss: 4.8552 - accuracy: 0.0662\n",
            "Epoch 13/500\n",
            "15/15 [==============================] - 0s 9ms/step - loss: 4.8017 - accuracy: 0.0640\n",
            "Epoch 14/500\n",
            "15/15 [==============================] - 0s 10ms/step - loss: 4.7449 - accuracy: 0.0751\n",
            "Epoch 15/500\n",
            "15/15 [==============================] - 0s 9ms/step - loss: 4.6809 - accuracy: 0.0773\n",
            "Epoch 16/500\n",
            "15/15 [==============================] - 0s 9ms/step - loss: 4.6226 - accuracy: 0.0817\n",
            "Epoch 17/500\n",
            "15/15 [==============================] - 0s 9ms/step - loss: 4.5840 - accuracy: 0.0839\n",
            "Epoch 18/500\n",
            "15/15 [==============================] - 0s 10ms/step - loss: 4.5271 - accuracy: 0.0949\n",
            "Epoch 19/500\n",
            "15/15 [==============================] - 0s 9ms/step - loss: 4.4845 - accuracy: 0.0861\n",
            "Epoch 20/500\n",
            "15/15 [==============================] - 0s 9ms/step - loss: 4.4393 - accuracy: 0.0993\n",
            "Epoch 21/500\n",
            "15/15 [==============================] - 0s 9ms/step - loss: 4.4028 - accuracy: 0.0927\n",
            "Epoch 22/500\n",
            "15/15 [==============================] - 0s 10ms/step - loss: 4.3557 - accuracy: 0.0927\n",
            "Epoch 23/500\n",
            "15/15 [==============================] - 0s 8ms/step - loss: 4.3183 - accuracy: 0.0883\n",
            "Epoch 24/500\n",
            "15/15 [==============================] - 0s 9ms/step - loss: 4.2770 - accuracy: 0.1104\n",
            "Epoch 25/500\n",
            "15/15 [==============================] - 0s 9ms/step - loss: 4.2309 - accuracy: 0.1126\n",
            "Epoch 26/500\n",
            "15/15 [==============================] - 0s 9ms/step - loss: 4.2010 - accuracy: 0.1236\n",
            "Epoch 27/500\n",
            "15/15 [==============================] - 0s 9ms/step - loss: 4.1676 - accuracy: 0.1126\n",
            "Epoch 28/500\n",
            "15/15 [==============================] - 0s 9ms/step - loss: 4.1408 - accuracy: 0.1258\n",
            "Epoch 29/500\n",
            "15/15 [==============================] - 0s 10ms/step - loss: 4.0965 - accuracy: 0.1258\n",
            "Epoch 30/500\n",
            "15/15 [==============================] - 0s 8ms/step - loss: 4.0576 - accuracy: 0.1391\n",
            "Epoch 31/500\n",
            "15/15 [==============================] - 0s 9ms/step - loss: 4.0134 - accuracy: 0.1457\n",
            "Epoch 32/500\n",
            "15/15 [==============================] - 0s 8ms/step - loss: 3.9748 - accuracy: 0.1589\n",
            "Epoch 33/500\n",
            "15/15 [==============================] - 0s 9ms/step - loss: 3.9358 - accuracy: 0.1634\n",
            "Epoch 34/500\n",
            "15/15 [==============================] - 0s 9ms/step - loss: 3.8947 - accuracy: 0.1700\n",
            "Epoch 35/500\n",
            "15/15 [==============================] - 0s 9ms/step - loss: 3.8586 - accuracy: 0.1722\n",
            "Epoch 36/500\n",
            "15/15 [==============================] - 0s 10ms/step - loss: 3.8184 - accuracy: 0.1854\n",
            "Epoch 37/500\n",
            "15/15 [==============================] - 0s 9ms/step - loss: 3.7816 - accuracy: 0.1987\n",
            "Epoch 38/500\n",
            "15/15 [==============================] - 0s 9ms/step - loss: 3.7363 - accuracy: 0.2075\n",
            "Epoch 39/500\n",
            "15/15 [==============================] - 0s 9ms/step - loss: 3.7007 - accuracy: 0.2119\n",
            "Epoch 40/500\n",
            "15/15 [==============================] - 0s 9ms/step - loss: 3.6542 - accuracy: 0.2318\n",
            "Epoch 41/500\n",
            "15/15 [==============================] - 0s 17ms/step - loss: 3.6236 - accuracy: 0.2472\n",
            "Epoch 42/500\n",
            "15/15 [==============================] - 0s 23ms/step - loss: 3.5969 - accuracy: 0.2472\n",
            "Epoch 43/500\n",
            "15/15 [==============================] - 0s 18ms/step - loss: 3.5745 - accuracy: 0.2517\n",
            "Epoch 44/500\n",
            "15/15 [==============================] - 0s 9ms/step - loss: 3.5270 - accuracy: 0.2605\n",
            "Epoch 45/500\n",
            "15/15 [==============================] - 0s 16ms/step - loss: 3.4757 - accuracy: 0.2848\n",
            "Epoch 46/500\n",
            "15/15 [==============================] - 0s 21ms/step - loss: 3.4355 - accuracy: 0.2980\n",
            "Epoch 47/500\n",
            "15/15 [==============================] - 0s 14ms/step - loss: 3.4018 - accuracy: 0.3024\n",
            "Epoch 48/500\n",
            "15/15 [==============================] - 0s 9ms/step - loss: 3.3622 - accuracy: 0.3157\n",
            "Epoch 49/500\n",
            "15/15 [==============================] - 0s 10ms/step - loss: 3.3245 - accuracy: 0.3201\n",
            "Epoch 50/500\n",
            "15/15 [==============================] - 0s 9ms/step - loss: 3.2854 - accuracy: 0.3223\n",
            "Epoch 51/500\n",
            "15/15 [==============================] - 0s 10ms/step - loss: 3.2488 - accuracy: 0.3311\n",
            "Epoch 52/500\n",
            "15/15 [==============================] - 0s 9ms/step - loss: 3.2155 - accuracy: 0.3400\n",
            "Epoch 53/500\n",
            "15/15 [==============================] - 0s 10ms/step - loss: 3.1815 - accuracy: 0.3422\n",
            "Epoch 54/500\n",
            "15/15 [==============================] - 0s 9ms/step - loss: 3.1518 - accuracy: 0.3554\n",
            "Epoch 55/500\n",
            "15/15 [==============================] - 0s 9ms/step - loss: 3.1518 - accuracy: 0.3709\n",
            "Epoch 56/500\n",
            "15/15 [==============================] - 0s 9ms/step - loss: 3.1182 - accuracy: 0.3642\n",
            "Epoch 57/500\n",
            "15/15 [==============================] - 0s 9ms/step - loss: 3.0736 - accuracy: 0.3664\n",
            "Epoch 58/500\n",
            "15/15 [==============================] - 0s 10ms/step - loss: 3.0284 - accuracy: 0.3885\n",
            "Epoch 59/500\n",
            "15/15 [==============================] - 0s 9ms/step - loss: 2.9936 - accuracy: 0.3974\n",
            "Epoch 60/500\n",
            "15/15 [==============================] - 0s 9ms/step - loss: 2.9637 - accuracy: 0.4106\n",
            "Epoch 61/500\n",
            "15/15 [==============================] - 0s 9ms/step - loss: 2.9209 - accuracy: 0.4018\n",
            "Epoch 62/500\n",
            "15/15 [==============================] - 0s 9ms/step - loss: 2.9052 - accuracy: 0.4062\n",
            "Epoch 63/500\n",
            "15/15 [==============================] - 0s 9ms/step - loss: 2.8661 - accuracy: 0.4194\n",
            "Epoch 64/500\n",
            "15/15 [==============================] - 0s 9ms/step - loss: 2.8374 - accuracy: 0.4172\n",
            "Epoch 65/500\n",
            "15/15 [==============================] - 0s 10ms/step - loss: 2.8155 - accuracy: 0.4238\n",
            "Epoch 66/500\n",
            "15/15 [==============================] - 0s 8ms/step - loss: 2.7727 - accuracy: 0.4305\n",
            "Epoch 67/500\n",
            "15/15 [==============================] - 0s 9ms/step - loss: 2.7378 - accuracy: 0.4349\n",
            "Epoch 68/500\n",
            "15/15 [==============================] - 0s 9ms/step - loss: 2.7044 - accuracy: 0.4658\n",
            "Epoch 69/500\n",
            "15/15 [==============================] - 0s 9ms/step - loss: 2.6783 - accuracy: 0.4592\n",
            "Epoch 70/500\n",
            "15/15 [==============================] - 0s 20ms/step - loss: 2.6643 - accuracy: 0.4768\n",
            "Epoch 71/500\n",
            "15/15 [==============================] - 0s 14ms/step - loss: 2.6481 - accuracy: 0.4459\n",
            "Epoch 72/500\n",
            "15/15 [==============================] - 0s 13ms/step - loss: 2.6056 - accuracy: 0.4724\n",
            "Epoch 73/500\n",
            "15/15 [==============================] - 0s 10ms/step - loss: 2.5721 - accuracy: 0.4812\n",
            "Epoch 74/500\n",
            "15/15 [==============================] - 0s 30ms/step - loss: 2.5513 - accuracy: 0.4834\n",
            "Epoch 75/500\n",
            "15/15 [==============================] - 0s 25ms/step - loss: 2.5167 - accuracy: 0.4967\n",
            "Epoch 76/500\n",
            "15/15 [==============================] - 0s 9ms/step - loss: 2.4881 - accuracy: 0.5055\n",
            "Epoch 77/500\n",
            "15/15 [==============================] - 0s 10ms/step - loss: 2.4599 - accuracy: 0.5099\n",
            "Epoch 78/500\n",
            "15/15 [==============================] - 0s 21ms/step - loss: 2.4380 - accuracy: 0.5342\n",
            "Epoch 79/500\n",
            "15/15 [==============================] - 0s 10ms/step - loss: 2.4076 - accuracy: 0.5408\n",
            "Epoch 80/500\n",
            "15/15 [==============================] - 0s 9ms/step - loss: 2.3952 - accuracy: 0.5320\n",
            "Epoch 81/500\n",
            "15/15 [==============================] - 0s 9ms/step - loss: 2.3669 - accuracy: 0.5607\n",
            "Epoch 82/500\n",
            "15/15 [==============================] - 0s 9ms/step - loss: 2.3340 - accuracy: 0.5651\n",
            "Epoch 83/500\n",
            "15/15 [==============================] - 0s 9ms/step - loss: 2.3133 - accuracy: 0.5673\n",
            "Epoch 84/500\n",
            "15/15 [==============================] - 0s 9ms/step - loss: 2.2861 - accuracy: 0.5607\n",
            "Epoch 85/500\n",
            "15/15 [==============================] - 0s 9ms/step - loss: 2.2670 - accuracy: 0.5695\n",
            "Epoch 86/500\n",
            "15/15 [==============================] - 0s 10ms/step - loss: 2.2548 - accuracy: 0.5695\n",
            "Epoch 87/500\n",
            "15/15 [==============================] - 0s 9ms/step - loss: 2.2200 - accuracy: 0.5850\n",
            "Epoch 88/500\n",
            "15/15 [==============================] - 0s 10ms/step - loss: 2.1964 - accuracy: 0.5806\n",
            "Epoch 89/500\n",
            "15/15 [==============================] - 0s 9ms/step - loss: 2.1722 - accuracy: 0.5828\n",
            "Epoch 90/500\n",
            "15/15 [==============================] - 0s 9ms/step - loss: 2.1796 - accuracy: 0.5762\n",
            "Epoch 91/500\n",
            "15/15 [==============================] - 0s 9ms/step - loss: 2.1778 - accuracy: 0.6026\n",
            "Epoch 92/500\n",
            "15/15 [==============================] - 0s 9ms/step - loss: 2.1503 - accuracy: 0.6004\n",
            "Epoch 93/500\n",
            "15/15 [==============================] - 0s 10ms/step - loss: 2.1400 - accuracy: 0.6026\n",
            "Epoch 94/500\n",
            "15/15 [==============================] - 0s 10ms/step - loss: 2.1130 - accuracy: 0.6203\n",
            "Epoch 95/500\n",
            "15/15 [==============================] - 0s 9ms/step - loss: 2.0855 - accuracy: 0.5916\n",
            "Epoch 96/500\n",
            "15/15 [==============================] - 0s 9ms/step - loss: 2.0498 - accuracy: 0.6137\n",
            "Epoch 97/500\n",
            "15/15 [==============================] - 0s 10ms/step - loss: 2.0171 - accuracy: 0.6247\n",
            "Epoch 98/500\n",
            "15/15 [==============================] - 0s 13ms/step - loss: 1.9908 - accuracy: 0.6402\n",
            "Epoch 99/500\n",
            "15/15 [==============================] - 0s 20ms/step - loss: 1.9723 - accuracy: 0.6446\n",
            "Epoch 100/500\n",
            "15/15 [==============================] - 0s 18ms/step - loss: 1.9548 - accuracy: 0.6424\n",
            "Epoch 101/500\n",
            "15/15 [==============================] - 0s 12ms/step - loss: 1.9242 - accuracy: 0.6556\n",
            "Epoch 102/500\n",
            "15/15 [==============================] - 0s 10ms/step - loss: 1.9096 - accuracy: 0.6667\n",
            "Epoch 103/500\n",
            "15/15 [==============================] - 0s 10ms/step - loss: 1.8837 - accuracy: 0.6689\n",
            "Epoch 104/500\n",
            "15/15 [==============================] - 0s 10ms/step - loss: 1.8568 - accuracy: 0.6777\n",
            "Epoch 105/500\n",
            "15/15 [==============================] - 0s 20ms/step - loss: 1.8377 - accuracy: 0.6887\n",
            "Epoch 106/500\n",
            "15/15 [==============================] - 0s 18ms/step - loss: 1.8226 - accuracy: 0.6799\n",
            "Epoch 107/500\n",
            "15/15 [==============================] - 0s 10ms/step - loss: 1.8032 - accuracy: 0.6909\n",
            "Epoch 108/500\n",
            "15/15 [==============================] - 0s 9ms/step - loss: 1.7838 - accuracy: 0.6909\n",
            "Epoch 109/500\n",
            "15/15 [==============================] - 0s 10ms/step - loss: 1.7679 - accuracy: 0.6998\n",
            "Epoch 110/500\n",
            "15/15 [==============================] - 0s 9ms/step - loss: 1.7522 - accuracy: 0.7152\n",
            "Epoch 111/500\n",
            "15/15 [==============================] - 0s 9ms/step - loss: 1.7352 - accuracy: 0.7086\n",
            "Epoch 112/500\n",
            "15/15 [==============================] - 0s 9ms/step - loss: 1.7122 - accuracy: 0.7241\n",
            "Epoch 113/500\n",
            "15/15 [==============================] - 0s 9ms/step - loss: 1.7026 - accuracy: 0.7196\n",
            "Epoch 114/500\n",
            "15/15 [==============================] - 0s 9ms/step - loss: 1.6788 - accuracy: 0.7196\n",
            "Epoch 115/500\n",
            "15/15 [==============================] - 0s 9ms/step - loss: 1.6695 - accuracy: 0.7241\n",
            "Epoch 116/500\n",
            "15/15 [==============================] - 0s 13ms/step - loss: 1.6495 - accuracy: 0.7373\n",
            "Epoch 117/500\n",
            "15/15 [==============================] - 0s 9ms/step - loss: 1.6288 - accuracy: 0.7417\n",
            "Epoch 118/500\n",
            "15/15 [==============================] - 0s 10ms/step - loss: 1.6167 - accuracy: 0.7483\n",
            "Epoch 119/500\n",
            "15/15 [==============================] - 0s 9ms/step - loss: 1.5958 - accuracy: 0.7528\n",
            "Epoch 120/500\n",
            "15/15 [==============================] - 0s 9ms/step - loss: 1.5770 - accuracy: 0.7506\n",
            "Epoch 121/500\n",
            "15/15 [==============================] - 0s 9ms/step - loss: 1.5590 - accuracy: 0.7572\n",
            "Epoch 122/500\n",
            "15/15 [==============================] - 0s 10ms/step - loss: 1.5432 - accuracy: 0.7682\n",
            "Epoch 123/500\n",
            "15/15 [==============================] - 0s 10ms/step - loss: 1.5266 - accuracy: 0.7528\n",
            "Epoch 124/500\n",
            "15/15 [==============================] - 0s 9ms/step - loss: 1.5054 - accuracy: 0.7616\n",
            "Epoch 125/500\n",
            "15/15 [==============================] - 0s 9ms/step - loss: 1.4955 - accuracy: 0.7616\n",
            "Epoch 126/500\n",
            "15/15 [==============================] - 0s 9ms/step - loss: 1.4995 - accuracy: 0.7660\n",
            "Epoch 127/500\n",
            "15/15 [==============================] - 0s 9ms/step - loss: 1.4748 - accuracy: 0.7660\n",
            "Epoch 128/500\n",
            "15/15 [==============================] - 0s 9ms/step - loss: 1.4603 - accuracy: 0.7638\n",
            "Epoch 129/500\n",
            "15/15 [==============================] - 0s 10ms/step - loss: 1.4396 - accuracy: 0.7748\n",
            "Epoch 130/500\n",
            "15/15 [==============================] - 0s 9ms/step - loss: 1.4208 - accuracy: 0.7748\n",
            "Epoch 131/500\n",
            "15/15 [==============================] - 0s 9ms/step - loss: 1.4071 - accuracy: 0.7792\n",
            "Epoch 132/500\n",
            "15/15 [==============================] - 0s 9ms/step - loss: 1.4228 - accuracy: 0.7682\n",
            "Epoch 133/500\n",
            "15/15 [==============================] - 0s 9ms/step - loss: 1.3906 - accuracy: 0.7748\n",
            "Epoch 134/500\n",
            "15/15 [==============================] - 0s 9ms/step - loss: 1.3649 - accuracy: 0.7815\n",
            "Epoch 135/500\n",
            "15/15 [==============================] - 0s 9ms/step - loss: 1.3476 - accuracy: 0.7859\n",
            "Epoch 136/500\n",
            "15/15 [==============================] - 0s 10ms/step - loss: 1.3272 - accuracy: 0.7903\n",
            "Epoch 137/500\n",
            "15/15 [==============================] - 0s 9ms/step - loss: 1.3198 - accuracy: 0.7947\n",
            "Epoch 138/500\n",
            "15/15 [==============================] - 0s 9ms/step - loss: 1.3027 - accuracy: 0.7969\n",
            "Epoch 139/500\n",
            "15/15 [==============================] - 0s 9ms/step - loss: 1.2854 - accuracy: 0.7991\n",
            "Epoch 140/500\n",
            "15/15 [==============================] - 0s 9ms/step - loss: 1.2737 - accuracy: 0.8013\n",
            "Epoch 141/500\n",
            "15/15 [==============================] - 0s 10ms/step - loss: 1.2592 - accuracy: 0.8079\n",
            "Epoch 142/500\n",
            "15/15 [==============================] - 0s 10ms/step - loss: 1.2558 - accuracy: 0.8102\n",
            "Epoch 143/500\n",
            "15/15 [==============================] - 0s 10ms/step - loss: 1.2401 - accuracy: 0.8190\n",
            "Epoch 144/500\n",
            "15/15 [==============================] - 0s 18ms/step - loss: 1.2270 - accuracy: 0.8079\n",
            "Epoch 145/500\n",
            "15/15 [==============================] - 0s 19ms/step - loss: 1.2089 - accuracy: 0.8168\n",
            "Epoch 146/500\n",
            "15/15 [==============================] - 0s 17ms/step - loss: 1.1934 - accuracy: 0.8124\n",
            "Epoch 147/500\n",
            "15/15 [==============================] - 0s 10ms/step - loss: 1.1809 - accuracy: 0.8146\n",
            "Epoch 148/500\n",
            "15/15 [==============================] - 0s 9ms/step - loss: 1.1675 - accuracy: 0.8190\n",
            "Epoch 149/500\n",
            "15/15 [==============================] - 0s 10ms/step - loss: 1.1558 - accuracy: 0.8256\n",
            "Epoch 150/500\n",
            "15/15 [==============================] - 0s 9ms/step - loss: 1.1459 - accuracy: 0.8256\n",
            "Epoch 151/500\n",
            "15/15 [==============================] - 0s 10ms/step - loss: 1.1726 - accuracy: 0.8168\n",
            "Epoch 152/500\n",
            "15/15 [==============================] - 0s 10ms/step - loss: 1.1566 - accuracy: 0.8256\n",
            "Epoch 153/500\n",
            "15/15 [==============================] - 0s 10ms/step - loss: 1.1931 - accuracy: 0.8168\n",
            "Epoch 154/500\n",
            "15/15 [==============================] - 0s 10ms/step - loss: 1.1728 - accuracy: 0.8079\n",
            "Epoch 155/500\n",
            "15/15 [==============================] - 0s 10ms/step - loss: 1.1264 - accuracy: 0.8212\n",
            "Epoch 156/500\n",
            "15/15 [==============================] - 0s 9ms/step - loss: 1.0985 - accuracy: 0.8300\n",
            "Epoch 157/500\n",
            "15/15 [==============================] - 0s 9ms/step - loss: 1.0944 - accuracy: 0.8278\n",
            "Epoch 158/500\n",
            "15/15 [==============================] - 0s 9ms/step - loss: 1.0814 - accuracy: 0.8278\n",
            "Epoch 159/500\n",
            "15/15 [==============================] - 0s 9ms/step - loss: 1.0810 - accuracy: 0.8278\n",
            "Epoch 160/500\n",
            "15/15 [==============================] - 0s 9ms/step - loss: 1.1779 - accuracy: 0.7991\n",
            "Epoch 161/500\n",
            "15/15 [==============================] - 0s 9ms/step - loss: 1.1618 - accuracy: 0.8168\n",
            "Epoch 162/500\n",
            "15/15 [==============================] - 0s 9ms/step - loss: 1.0913 - accuracy: 0.8344\n",
            "Epoch 163/500\n",
            "15/15 [==============================] - 0s 9ms/step - loss: 1.0646 - accuracy: 0.8433\n",
            "Epoch 164/500\n",
            "15/15 [==============================] - 0s 9ms/step - loss: 1.0439 - accuracy: 0.8389\n",
            "Epoch 165/500\n",
            "15/15 [==============================] - 0s 9ms/step - loss: 1.0233 - accuracy: 0.8543\n",
            "Epoch 166/500\n",
            "15/15 [==============================] - 0s 9ms/step - loss: 1.0132 - accuracy: 0.8543\n",
            "Epoch 167/500\n",
            "15/15 [==============================] - 0s 9ms/step - loss: 0.9946 - accuracy: 0.8587\n",
            "Epoch 168/500\n",
            "15/15 [==============================] - 0s 9ms/step - loss: 0.9802 - accuracy: 0.8587\n",
            "Epoch 169/500\n",
            "15/15 [==============================] - 0s 9ms/step - loss: 0.9627 - accuracy: 0.8720\n",
            "Epoch 170/500\n",
            "15/15 [==============================] - 0s 10ms/step - loss: 0.9499 - accuracy: 0.8653\n",
            "Epoch 171/500\n",
            "15/15 [==============================] - 0s 9ms/step - loss: 0.9374 - accuracy: 0.8698\n",
            "Epoch 172/500\n",
            "15/15 [==============================] - 0s 17ms/step - loss: 0.9237 - accuracy: 0.8675\n",
            "Epoch 173/500\n",
            "15/15 [==============================] - 0s 18ms/step - loss: 0.9131 - accuracy: 0.8698\n",
            "Epoch 174/500\n",
            "15/15 [==============================] - 0s 10ms/step - loss: 0.9060 - accuracy: 0.8742\n",
            "Epoch 175/500\n",
            "15/15 [==============================] - 0s 9ms/step - loss: 0.8928 - accuracy: 0.8764\n",
            "Epoch 176/500\n",
            "15/15 [==============================] - 0s 9ms/step - loss: 0.8839 - accuracy: 0.8808\n",
            "Epoch 177/500\n",
            "15/15 [==============================] - 0s 9ms/step - loss: 0.8784 - accuracy: 0.8764\n",
            "Epoch 178/500\n",
            "15/15 [==============================] - 0s 11ms/step - loss: 0.8736 - accuracy: 0.8808\n",
            "Epoch 179/500\n",
            "15/15 [==============================] - 0s 17ms/step - loss: 0.8749 - accuracy: 0.8698\n",
            "Epoch 180/500\n",
            "15/15 [==============================] - 0s 13ms/step - loss: 0.8572 - accuracy: 0.8808\n",
            "Epoch 181/500\n",
            "15/15 [==============================] - 0s 9ms/step - loss: 0.8486 - accuracy: 0.8786\n",
            "Epoch 182/500\n",
            "15/15 [==============================] - 0s 9ms/step - loss: 0.8369 - accuracy: 0.8874\n",
            "Epoch 183/500\n",
            "15/15 [==============================] - 0s 9ms/step - loss: 0.8357 - accuracy: 0.8852\n",
            "Epoch 184/500\n",
            "15/15 [==============================] - 0s 10ms/step - loss: 0.8326 - accuracy: 0.8874\n",
            "Epoch 185/500\n",
            "15/15 [==============================] - 0s 10ms/step - loss: 0.8165 - accuracy: 0.8896\n",
            "Epoch 186/500\n",
            "15/15 [==============================] - 0s 11ms/step - loss: 0.8094 - accuracy: 0.8874\n",
            "Epoch 187/500\n",
            "15/15 [==============================] - 0s 10ms/step - loss: 0.8076 - accuracy: 0.8852\n",
            "Epoch 188/500\n",
            "15/15 [==============================] - 0s 9ms/step - loss: 0.8222 - accuracy: 0.8720\n",
            "Epoch 189/500\n",
            "15/15 [==============================] - 0s 9ms/step - loss: 0.8065 - accuracy: 0.8830\n",
            "Epoch 190/500\n",
            "15/15 [==============================] - 0s 10ms/step - loss: 0.7996 - accuracy: 0.8874\n",
            "Epoch 191/500\n",
            "15/15 [==============================] - 0s 9ms/step - loss: 0.7884 - accuracy: 0.8940\n",
            "Epoch 192/500\n",
            "15/15 [==============================] - 0s 10ms/step - loss: 0.7758 - accuracy: 0.9007\n",
            "Epoch 193/500\n",
            "15/15 [==============================] - 0s 9ms/step - loss: 0.7638 - accuracy: 0.8985\n",
            "Epoch 194/500\n",
            "15/15 [==============================] - 0s 9ms/step - loss: 0.7542 - accuracy: 0.8985\n",
            "Epoch 195/500\n",
            "15/15 [==============================] - 0s 9ms/step - loss: 0.7457 - accuracy: 0.9029\n",
            "Epoch 196/500\n",
            "15/15 [==============================] - 0s 10ms/step - loss: 0.7353 - accuracy: 0.9029\n",
            "Epoch 197/500\n",
            "15/15 [==============================] - 0s 9ms/step - loss: 0.7206 - accuracy: 0.9051\n",
            "Epoch 198/500\n",
            "15/15 [==============================] - 0s 10ms/step - loss: 0.7127 - accuracy: 0.9051\n",
            "Epoch 199/500\n",
            "15/15 [==============================] - 0s 9ms/step - loss: 0.7067 - accuracy: 0.9073\n",
            "Epoch 200/500\n",
            "15/15 [==============================] - 0s 9ms/step - loss: 0.6991 - accuracy: 0.9029\n",
            "Epoch 201/500\n",
            "15/15 [==============================] - 0s 9ms/step - loss: 0.6916 - accuracy: 0.9029\n",
            "Epoch 202/500\n",
            "15/15 [==============================] - 0s 9ms/step - loss: 0.6841 - accuracy: 0.9029\n",
            "Epoch 203/500\n",
            "15/15 [==============================] - 0s 9ms/step - loss: 0.6791 - accuracy: 0.9073\n",
            "Epoch 204/500\n",
            "15/15 [==============================] - 0s 9ms/step - loss: 0.6705 - accuracy: 0.9095\n",
            "Epoch 205/500\n",
            "15/15 [==============================] - 0s 10ms/step - loss: 0.6631 - accuracy: 0.9117\n",
            "Epoch 206/500\n",
            "15/15 [==============================] - 0s 9ms/step - loss: 0.6575 - accuracy: 0.9095\n",
            "Epoch 207/500\n",
            "15/15 [==============================] - 0s 9ms/step - loss: 0.6498 - accuracy: 0.9117\n",
            "Epoch 208/500\n",
            "15/15 [==============================] - 0s 9ms/step - loss: 0.6435 - accuracy: 0.9117\n",
            "Epoch 209/500\n",
            "15/15 [==============================] - 0s 9ms/step - loss: 0.6366 - accuracy: 0.9139\n",
            "Epoch 210/500\n",
            "15/15 [==============================] - 0s 9ms/step - loss: 0.6305 - accuracy: 0.9205\n",
            "Epoch 211/500\n",
            "15/15 [==============================] - 0s 9ms/step - loss: 0.6242 - accuracy: 0.9205\n",
            "Epoch 212/500\n",
            "15/15 [==============================] - 0s 10ms/step - loss: 0.6177 - accuracy: 0.9227\n",
            "Epoch 213/500\n",
            "15/15 [==============================] - 0s 9ms/step - loss: 0.6118 - accuracy: 0.9205\n",
            "Epoch 214/500\n",
            "15/15 [==============================] - 0s 9ms/step - loss: 0.6062 - accuracy: 0.9249\n",
            "Epoch 215/500\n",
            "15/15 [==============================] - 0s 9ms/step - loss: 0.6003 - accuracy: 0.9249\n",
            "Epoch 216/500\n",
            "15/15 [==============================] - 0s 9ms/step - loss: 0.5955 - accuracy: 0.9249\n",
            "Epoch 217/500\n",
            "15/15 [==============================] - 0s 9ms/step - loss: 0.5914 - accuracy: 0.9249\n",
            "Epoch 218/500\n",
            "15/15 [==============================] - 0s 10ms/step - loss: 0.5850 - accuracy: 0.9249\n",
            "Epoch 219/500\n",
            "15/15 [==============================] - 0s 10ms/step - loss: 0.5810 - accuracy: 0.9227\n",
            "Epoch 220/500\n",
            "15/15 [==============================] - 0s 9ms/step - loss: 0.5754 - accuracy: 0.9205\n",
            "Epoch 221/500\n",
            "15/15 [==============================] - 0s 9ms/step - loss: 0.5698 - accuracy: 0.9294\n",
            "Epoch 222/500\n",
            "15/15 [==============================] - 0s 9ms/step - loss: 0.5663 - accuracy: 0.9205\n",
            "Epoch 223/500\n",
            "15/15 [==============================] - 0s 9ms/step - loss: 0.5613 - accuracy: 0.9249\n",
            "Epoch 224/500\n",
            "15/15 [==============================] - 0s 9ms/step - loss: 0.5555 - accuracy: 0.9294\n",
            "Epoch 225/500\n",
            "15/15 [==============================] - 0s 10ms/step - loss: 0.5503 - accuracy: 0.9272\n",
            "Epoch 226/500\n",
            "15/15 [==============================] - 0s 10ms/step - loss: 0.5471 - accuracy: 0.9249\n",
            "Epoch 227/500\n",
            "15/15 [==============================] - 0s 10ms/step - loss: 0.5406 - accuracy: 0.9272\n",
            "Epoch 228/500\n",
            "15/15 [==============================] - 0s 9ms/step - loss: 0.5376 - accuracy: 0.9294\n",
            "Epoch 229/500\n",
            "15/15 [==============================] - 0s 9ms/step - loss: 0.5483 - accuracy: 0.9249\n",
            "Epoch 230/500\n",
            "15/15 [==============================] - 0s 9ms/step - loss: 0.5387 - accuracy: 0.9227\n",
            "Epoch 231/500\n",
            "15/15 [==============================] - 0s 9ms/step - loss: 0.5490 - accuracy: 0.9183\n",
            "Epoch 232/500\n",
            "15/15 [==============================] - 0s 10ms/step - loss: 0.5675 - accuracy: 0.9073\n",
            "Epoch 233/500\n",
            "15/15 [==============================] - 0s 10ms/step - loss: 0.5516 - accuracy: 0.9095\n",
            "Epoch 234/500\n",
            "15/15 [==============================] - 0s 9ms/step - loss: 0.5415 - accuracy: 0.9161\n",
            "Epoch 235/500\n",
            "15/15 [==============================] - 0s 9ms/step - loss: 0.5534 - accuracy: 0.9183\n",
            "Epoch 236/500\n",
            "15/15 [==============================] - 0s 9ms/step - loss: 0.5522 - accuracy: 0.9205\n",
            "Epoch 237/500\n",
            "15/15 [==============================] - 0s 9ms/step - loss: 0.5338 - accuracy: 0.9205\n",
            "Epoch 238/500\n",
            "15/15 [==============================] - 0s 9ms/step - loss: 0.5119 - accuracy: 0.9294\n",
            "Epoch 239/500\n",
            "15/15 [==============================] - 0s 10ms/step - loss: 0.5043 - accuracy: 0.9316\n",
            "Epoch 240/500\n",
            "15/15 [==============================] - 0s 10ms/step - loss: 0.5108 - accuracy: 0.9294\n",
            "Epoch 241/500\n",
            "15/15 [==============================] - 0s 9ms/step - loss: 0.4995 - accuracy: 0.9338\n",
            "Epoch 242/500\n",
            "15/15 [==============================] - 0s 9ms/step - loss: 0.4849 - accuracy: 0.9360\n",
            "Epoch 243/500\n",
            "15/15 [==============================] - 0s 9ms/step - loss: 0.4804 - accuracy: 0.9360\n",
            "Epoch 244/500\n",
            "15/15 [==============================] - 0s 10ms/step - loss: 0.4738 - accuracy: 0.9382\n",
            "Epoch 245/500\n",
            "15/15 [==============================] - 0s 9ms/step - loss: 0.4669 - accuracy: 0.9382\n",
            "Epoch 246/500\n",
            "15/15 [==============================] - 0s 10ms/step - loss: 0.4630 - accuracy: 0.9382\n",
            "Epoch 247/500\n",
            "15/15 [==============================] - 0s 10ms/step - loss: 0.4597 - accuracy: 0.9382\n",
            "Epoch 248/500\n",
            "15/15 [==============================] - 0s 9ms/step - loss: 0.4549 - accuracy: 0.9360\n",
            "Epoch 249/500\n",
            "15/15 [==============================] - 0s 10ms/step - loss: 0.4478 - accuracy: 0.9382\n",
            "Epoch 250/500\n",
            "15/15 [==============================] - 0s 9ms/step - loss: 0.4428 - accuracy: 0.9360\n",
            "Epoch 251/500\n",
            "15/15 [==============================] - 0s 9ms/step - loss: 0.4375 - accuracy: 0.9426\n",
            "Epoch 252/500\n",
            "15/15 [==============================] - 0s 10ms/step - loss: 0.4338 - accuracy: 0.9404\n",
            "Epoch 253/500\n",
            "15/15 [==============================] - 0s 10ms/step - loss: 0.4304 - accuracy: 0.9448\n",
            "Epoch 254/500\n",
            "15/15 [==============================] - 0s 9ms/step - loss: 0.4264 - accuracy: 0.9448\n",
            "Epoch 255/500\n",
            "15/15 [==============================] - 0s 9ms/step - loss: 0.4219 - accuracy: 0.9448\n",
            "Epoch 256/500\n",
            "15/15 [==============================] - 0s 9ms/step - loss: 0.4191 - accuracy: 0.9404\n",
            "Epoch 257/500\n",
            "15/15 [==============================] - 0s 9ms/step - loss: 0.4154 - accuracy: 0.9448\n",
            "Epoch 258/500\n",
            "15/15 [==============================] - 0s 10ms/step - loss: 0.4111 - accuracy: 0.9470\n",
            "Epoch 259/500\n",
            "15/15 [==============================] - 0s 10ms/step - loss: 0.4086 - accuracy: 0.9448\n",
            "Epoch 260/500\n",
            "15/15 [==============================] - 0s 9ms/step - loss: 0.4045 - accuracy: 0.9448\n",
            "Epoch 261/500\n",
            "15/15 [==============================] - 0s 10ms/step - loss: 0.4010 - accuracy: 0.9470\n",
            "Epoch 262/500\n",
            "15/15 [==============================] - 0s 9ms/step - loss: 0.3979 - accuracy: 0.9470\n",
            "Epoch 263/500\n",
            "15/15 [==============================] - 0s 9ms/step - loss: 0.3951 - accuracy: 0.9470\n",
            "Epoch 264/500\n",
            "15/15 [==============================] - 0s 11ms/step - loss: 0.3913 - accuracy: 0.9492\n",
            "Epoch 265/500\n",
            "15/15 [==============================] - 0s 10ms/step - loss: 0.3889 - accuracy: 0.9448\n",
            "Epoch 266/500\n",
            "15/15 [==============================] - 0s 12ms/step - loss: 0.3857 - accuracy: 0.9448\n",
            "Epoch 267/500\n",
            "15/15 [==============================] - 0s 10ms/step - loss: 0.3830 - accuracy: 0.9448\n",
            "Epoch 268/500\n",
            "15/15 [==============================] - 0s 18ms/step - loss: 0.3783 - accuracy: 0.9514\n",
            "Epoch 269/500\n",
            "15/15 [==============================] - 0s 19ms/step - loss: 0.3764 - accuracy: 0.9470\n",
            "Epoch 270/500\n",
            "15/15 [==============================] - 0s 9ms/step - loss: 0.3734 - accuracy: 0.9492\n",
            "Epoch 271/500\n",
            "15/15 [==============================] - 0s 10ms/step - loss: 0.3696 - accuracy: 0.9470\n",
            "Epoch 272/500\n",
            "15/15 [==============================] - 0s 10ms/step - loss: 0.3669 - accuracy: 0.9470\n",
            "Epoch 273/500\n",
            "15/15 [==============================] - 0s 9ms/step - loss: 0.3642 - accuracy: 0.9492\n",
            "Epoch 274/500\n",
            "15/15 [==============================] - 0s 9ms/step - loss: 0.3608 - accuracy: 0.9514\n",
            "Epoch 275/500\n",
            "15/15 [==============================] - 0s 9ms/step - loss: 0.3581 - accuracy: 0.9492\n",
            "Epoch 276/500\n",
            "15/15 [==============================] - 0s 10ms/step - loss: 0.3555 - accuracy: 0.9492\n",
            "Epoch 277/500\n",
            "15/15 [==============================] - 0s 10ms/step - loss: 0.3530 - accuracy: 0.9470\n",
            "Epoch 278/500\n",
            "15/15 [==============================] - 0s 10ms/step - loss: 0.3582 - accuracy: 0.9492\n",
            "Epoch 279/500\n",
            "15/15 [==============================] - 0s 10ms/step - loss: 0.3597 - accuracy: 0.9448\n",
            "Epoch 280/500\n",
            "15/15 [==============================] - 0s 10ms/step - loss: 0.3871 - accuracy: 0.9448\n",
            "Epoch 281/500\n",
            "15/15 [==============================] - 0s 9ms/step - loss: 0.3877 - accuracy: 0.9382\n",
            "Epoch 282/500\n",
            "15/15 [==============================] - 0s 9ms/step - loss: 0.3967 - accuracy: 0.9360\n",
            "Epoch 283/500\n",
            "15/15 [==============================] - 0s 9ms/step - loss: 0.4035 - accuracy: 0.9360\n",
            "Epoch 284/500\n",
            "15/15 [==============================] - 0s 10ms/step - loss: 0.3814 - accuracy: 0.9382\n",
            "Epoch 285/500\n",
            "15/15 [==============================] - 0s 10ms/step - loss: 0.3819 - accuracy: 0.9404\n",
            "Epoch 286/500\n",
            "15/15 [==============================] - 0s 9ms/step - loss: 0.3941 - accuracy: 0.9249\n",
            "Epoch 287/500\n",
            "15/15 [==============================] - 0s 9ms/step - loss: 0.3882 - accuracy: 0.9272\n",
            "Epoch 288/500\n",
            "15/15 [==============================] - 0s 9ms/step - loss: 0.3689 - accuracy: 0.9382\n",
            "Epoch 289/500\n",
            "15/15 [==============================] - 0s 10ms/step - loss: 0.3612 - accuracy: 0.9360\n",
            "Epoch 290/500\n",
            "15/15 [==============================] - 0s 9ms/step - loss: 0.3511 - accuracy: 0.9470\n",
            "Epoch 291/500\n",
            "15/15 [==============================] - 0s 10ms/step - loss: 0.3734 - accuracy: 0.9360\n",
            "Epoch 292/500\n",
            "15/15 [==============================] - 0s 10ms/step - loss: 0.3853 - accuracy: 0.9338\n",
            "Epoch 293/500\n",
            "15/15 [==============================] - 0s 10ms/step - loss: 0.3927 - accuracy: 0.9294\n",
            "Epoch 294/500\n",
            "15/15 [==============================] - 0s 9ms/step - loss: 0.4216 - accuracy: 0.9227\n",
            "Epoch 295/500\n",
            "15/15 [==============================] - 0s 10ms/step - loss: 0.3867 - accuracy: 0.9360\n",
            "Epoch 296/500\n",
            "15/15 [==============================] - 0s 14ms/step - loss: 0.3715 - accuracy: 0.9426\n",
            "Epoch 297/500\n",
            "15/15 [==============================] - 0s 24ms/step - loss: 0.3543 - accuracy: 0.9404\n",
            "Epoch 298/500\n",
            "15/15 [==============================] - 0s 11ms/step - loss: 0.3510 - accuracy: 0.9404\n",
            "Epoch 299/500\n",
            "15/15 [==============================] - 0s 9ms/step - loss: 0.3360 - accuracy: 0.9404\n",
            "Epoch 300/500\n",
            "15/15 [==============================] - 0s 9ms/step - loss: 0.3302 - accuracy: 0.9426\n",
            "Epoch 301/500\n",
            "15/15 [==============================] - 0s 9ms/step - loss: 0.3209 - accuracy: 0.9404\n",
            "Epoch 302/500\n",
            "15/15 [==============================] - 0s 10ms/step - loss: 0.3167 - accuracy: 0.9448\n",
            "Epoch 303/500\n",
            "15/15 [==============================] - 0s 9ms/step - loss: 0.3136 - accuracy: 0.9470\n",
            "Epoch 304/500\n",
            "15/15 [==============================] - 0s 9ms/step - loss: 0.3103 - accuracy: 0.9470\n",
            "Epoch 305/500\n",
            "15/15 [==============================] - 0s 9ms/step - loss: 0.3078 - accuracy: 0.9426\n",
            "Epoch 306/500\n",
            "15/15 [==============================] - 0s 9ms/step - loss: 0.3050 - accuracy: 0.9426\n",
            "Epoch 307/500\n",
            "15/15 [==============================] - 0s 9ms/step - loss: 0.3016 - accuracy: 0.9492\n",
            "Epoch 308/500\n",
            "15/15 [==============================] - 0s 10ms/step - loss: 0.2984 - accuracy: 0.9492\n",
            "Epoch 309/500\n",
            "15/15 [==============================] - 0s 10ms/step - loss: 0.2957 - accuracy: 0.9492\n",
            "Epoch 310/500\n",
            "15/15 [==============================] - 0s 10ms/step - loss: 0.2925 - accuracy: 0.9448\n",
            "Epoch 311/500\n",
            "15/15 [==============================] - 0s 10ms/step - loss: 0.2906 - accuracy: 0.9514\n",
            "Epoch 312/500\n",
            "15/15 [==============================] - 0s 9ms/step - loss: 0.2878 - accuracy: 0.9514\n",
            "Epoch 313/500\n",
            "15/15 [==============================] - 0s 9ms/step - loss: 0.2855 - accuracy: 0.9492\n",
            "Epoch 314/500\n",
            "15/15 [==============================] - 0s 10ms/step - loss: 0.2837 - accuracy: 0.9514\n",
            "Epoch 315/500\n",
            "15/15 [==============================] - 0s 11ms/step - loss: 0.2823 - accuracy: 0.9514\n",
            "Epoch 316/500\n",
            "15/15 [==============================] - 0s 9ms/step - loss: 0.2804 - accuracy: 0.9514\n",
            "Epoch 317/500\n",
            "15/15 [==============================] - 0s 10ms/step - loss: 0.2778 - accuracy: 0.9514\n",
            "Epoch 318/500\n",
            "15/15 [==============================] - 0s 9ms/step - loss: 0.2754 - accuracy: 0.9536\n",
            "Epoch 319/500\n",
            "15/15 [==============================] - 0s 9ms/step - loss: 0.2739 - accuracy: 0.9536\n",
            "Epoch 320/500\n",
            "15/15 [==============================] - 0s 9ms/step - loss: 0.2724 - accuracy: 0.9492\n",
            "Epoch 321/500\n",
            "15/15 [==============================] - 0s 9ms/step - loss: 0.2703 - accuracy: 0.9536\n",
            "Epoch 322/500\n",
            "15/15 [==============================] - 0s 10ms/step - loss: 0.2694 - accuracy: 0.9492\n",
            "Epoch 323/500\n",
            "15/15 [==============================] - 0s 9ms/step - loss: 0.2666 - accuracy: 0.9492\n",
            "Epoch 324/500\n",
            "15/15 [==============================] - 0s 10ms/step - loss: 0.2637 - accuracy: 0.9514\n",
            "Epoch 325/500\n",
            "15/15 [==============================] - 0s 9ms/step - loss: 0.2626 - accuracy: 0.9514\n",
            "Epoch 326/500\n",
            "15/15 [==============================] - 0s 9ms/step - loss: 0.2597 - accuracy: 0.9514\n",
            "Epoch 327/500\n",
            "15/15 [==============================] - 0s 11ms/step - loss: 0.2566 - accuracy: 0.9492\n",
            "Epoch 328/500\n",
            "15/15 [==============================] - 0s 10ms/step - loss: 0.2555 - accuracy: 0.9514\n",
            "Epoch 329/500\n",
            "15/15 [==============================] - 0s 9ms/step - loss: 0.2536 - accuracy: 0.9536\n",
            "Epoch 330/500\n",
            "15/15 [==============================] - 0s 10ms/step - loss: 0.2526 - accuracy: 0.9536\n",
            "Epoch 331/500\n",
            "15/15 [==============================] - 0s 9ms/step - loss: 0.2522 - accuracy: 0.9536\n",
            "Epoch 332/500\n",
            "15/15 [==============================] - 0s 9ms/step - loss: 0.2506 - accuracy: 0.9514\n",
            "Epoch 333/500\n",
            "15/15 [==============================] - 0s 10ms/step - loss: 0.2498 - accuracy: 0.9514\n",
            "Epoch 334/500\n",
            "15/15 [==============================] - 0s 9ms/step - loss: 0.2472 - accuracy: 0.9492\n",
            "Epoch 335/500\n",
            "15/15 [==============================] - 0s 11ms/step - loss: 0.2452 - accuracy: 0.9536\n",
            "Epoch 336/500\n",
            "15/15 [==============================] - 0s 9ms/step - loss: 0.2433 - accuracy: 0.9514\n",
            "Epoch 337/500\n",
            "15/15 [==============================] - 0s 9ms/step - loss: 0.2422 - accuracy: 0.9492\n",
            "Epoch 338/500\n",
            "15/15 [==============================] - 0s 9ms/step - loss: 0.2402 - accuracy: 0.9514\n",
            "Epoch 339/500\n",
            "15/15 [==============================] - 0s 9ms/step - loss: 0.2387 - accuracy: 0.9536\n",
            "Epoch 340/500\n",
            "15/15 [==============================] - 0s 10ms/step - loss: 0.2366 - accuracy: 0.9536\n",
            "Epoch 341/500\n",
            "15/15 [==============================] - 0s 9ms/step - loss: 0.2354 - accuracy: 0.9470\n",
            "Epoch 342/500\n",
            "15/15 [==============================] - 0s 10ms/step - loss: 0.2335 - accuracy: 0.9492\n",
            "Epoch 343/500\n",
            "15/15 [==============================] - 0s 9ms/step - loss: 0.2319 - accuracy: 0.9514\n",
            "Epoch 344/500\n",
            "15/15 [==============================] - 0s 9ms/step - loss: 0.2303 - accuracy: 0.9536\n",
            "Epoch 345/500\n",
            "15/15 [==============================] - 0s 9ms/step - loss: 0.2282 - accuracy: 0.9536\n",
            "Epoch 346/500\n",
            "15/15 [==============================] - 0s 9ms/step - loss: 0.2272 - accuracy: 0.9536\n",
            "Epoch 347/500\n",
            "15/15 [==============================] - 0s 9ms/step - loss: 0.2264 - accuracy: 0.9536\n",
            "Epoch 348/500\n",
            "15/15 [==============================] - 0s 10ms/step - loss: 0.2257 - accuracy: 0.9536\n",
            "Epoch 349/500\n",
            "15/15 [==============================] - 0s 10ms/step - loss: 0.2248 - accuracy: 0.9536\n",
            "Epoch 350/500\n",
            "15/15 [==============================] - 0s 9ms/step - loss: 0.2231 - accuracy: 0.9536\n",
            "Epoch 351/500\n",
            "15/15 [==============================] - 0s 10ms/step - loss: 0.2222 - accuracy: 0.9514\n",
            "Epoch 352/500\n",
            "15/15 [==============================] - 0s 9ms/step - loss: 0.2210 - accuracy: 0.9514\n",
            "Epoch 353/500\n",
            "15/15 [==============================] - 0s 10ms/step - loss: 0.2200 - accuracy: 0.9514\n",
            "Epoch 354/500\n",
            "15/15 [==============================] - 0s 9ms/step - loss: 0.2183 - accuracy: 0.9514\n",
            "Epoch 355/500\n",
            "15/15 [==============================] - 0s 10ms/step - loss: 0.2166 - accuracy: 0.9514\n",
            "Epoch 356/500\n",
            "15/15 [==============================] - 0s 10ms/step - loss: 0.2153 - accuracy: 0.9492\n",
            "Epoch 357/500\n",
            "15/15 [==============================] - 0s 9ms/step - loss: 0.2140 - accuracy: 0.9536\n",
            "Epoch 358/500\n",
            "15/15 [==============================] - 0s 10ms/step - loss: 0.2128 - accuracy: 0.9536\n",
            "Epoch 359/500\n",
            "15/15 [==============================] - 0s 10ms/step - loss: 0.2121 - accuracy: 0.9492\n",
            "Epoch 360/500\n",
            "15/15 [==============================] - 0s 10ms/step - loss: 0.2107 - accuracy: 0.9492\n",
            "Epoch 361/500\n",
            "15/15 [==============================] - 0s 10ms/step - loss: 0.2097 - accuracy: 0.9492\n",
            "Epoch 362/500\n",
            "15/15 [==============================] - 0s 9ms/step - loss: 0.2080 - accuracy: 0.9536\n",
            "Epoch 363/500\n",
            "15/15 [==============================] - 0s 9ms/step - loss: 0.2074 - accuracy: 0.9514\n",
            "Epoch 364/500\n",
            "15/15 [==============================] - 0s 9ms/step - loss: 0.2066 - accuracy: 0.9514\n",
            "Epoch 365/500\n",
            "15/15 [==============================] - 0s 10ms/step - loss: 0.2053 - accuracy: 0.9536\n",
            "Epoch 366/500\n",
            "15/15 [==============================] - 0s 9ms/step - loss: 0.2037 - accuracy: 0.9536\n",
            "Epoch 367/500\n",
            "15/15 [==============================] - 0s 9ms/step - loss: 0.2020 - accuracy: 0.9536\n",
            "Epoch 368/500\n",
            "15/15 [==============================] - 0s 10ms/step - loss: 0.2011 - accuracy: 0.9514\n",
            "Epoch 369/500\n",
            "15/15 [==============================] - 0s 9ms/step - loss: 0.1997 - accuracy: 0.9536\n",
            "Epoch 370/500\n",
            "15/15 [==============================] - 0s 9ms/step - loss: 0.1990 - accuracy: 0.9492\n",
            "Epoch 371/500\n",
            "15/15 [==============================] - 0s 10ms/step - loss: 0.1974 - accuracy: 0.9536\n",
            "Epoch 372/500\n",
            "15/15 [==============================] - 0s 22ms/step - loss: 0.1966 - accuracy: 0.9514\n",
            "Epoch 373/500\n",
            "15/15 [==============================] - 0s 18ms/step - loss: 0.1959 - accuracy: 0.9514\n",
            "Epoch 374/500\n",
            "15/15 [==============================] - 0s 9ms/step - loss: 0.1946 - accuracy: 0.9536\n",
            "Epoch 375/500\n",
            "15/15 [==============================] - 0s 10ms/step - loss: 0.1938 - accuracy: 0.9492\n",
            "Epoch 376/500\n",
            "15/15 [==============================] - 0s 9ms/step - loss: 0.1930 - accuracy: 0.9536\n",
            "Epoch 377/500\n",
            "15/15 [==============================] - 0s 10ms/step - loss: 0.1921 - accuracy: 0.9536\n",
            "Epoch 378/500\n",
            "15/15 [==============================] - 0s 9ms/step - loss: 0.1910 - accuracy: 0.9514\n",
            "Epoch 379/500\n",
            "15/15 [==============================] - 0s 11ms/step - loss: 0.1903 - accuracy: 0.9514\n",
            "Epoch 380/500\n",
            "15/15 [==============================] - 0s 10ms/step - loss: 0.1894 - accuracy: 0.9536\n",
            "Epoch 381/500\n",
            "15/15 [==============================] - 0s 10ms/step - loss: 0.1884 - accuracy: 0.9536\n",
            "Epoch 382/500\n",
            "15/15 [==============================] - 0s 10ms/step - loss: 0.1874 - accuracy: 0.9514\n",
            "Epoch 383/500\n",
            "15/15 [==============================] - 0s 9ms/step - loss: 0.1887 - accuracy: 0.9492\n",
            "Epoch 384/500\n",
            "15/15 [==============================] - 0s 10ms/step - loss: 0.1867 - accuracy: 0.9514\n",
            "Epoch 385/500\n",
            "15/15 [==============================] - 0s 9ms/step - loss: 0.1854 - accuracy: 0.9514\n",
            "Epoch 386/500\n",
            "15/15 [==============================] - 0s 11ms/step - loss: 0.1859 - accuracy: 0.9470\n",
            "Epoch 387/500\n",
            "15/15 [==============================] - 0s 10ms/step - loss: 0.1852 - accuracy: 0.9470\n",
            "Epoch 388/500\n",
            "15/15 [==============================] - 0s 9ms/step - loss: 0.1833 - accuracy: 0.9514\n",
            "Epoch 389/500\n",
            "15/15 [==============================] - 0s 10ms/step - loss: 0.1819 - accuracy: 0.9514\n",
            "Epoch 390/500\n",
            "15/15 [==============================] - 0s 10ms/step - loss: 0.1806 - accuracy: 0.9514\n",
            "Epoch 391/500\n",
            "15/15 [==============================] - 0s 10ms/step - loss: 0.1804 - accuracy: 0.9514\n",
            "Epoch 392/500\n",
            "15/15 [==============================] - 0s 12ms/step - loss: 0.1791 - accuracy: 0.9514\n",
            "Epoch 393/500\n",
            "15/15 [==============================] - 0s 10ms/step - loss: 0.1780 - accuracy: 0.9536\n",
            "Epoch 394/500\n",
            "15/15 [==============================] - 0s 11ms/step - loss: 0.1777 - accuracy: 0.9514\n",
            "Epoch 395/500\n",
            "15/15 [==============================] - 0s 10ms/step - loss: 0.1758 - accuracy: 0.9514\n",
            "Epoch 396/500\n",
            "15/15 [==============================] - 0s 9ms/step - loss: 0.1761 - accuracy: 0.9536\n",
            "Epoch 397/500\n",
            "15/15 [==============================] - 0s 10ms/step - loss: 0.1747 - accuracy: 0.9536\n",
            "Epoch 398/500\n",
            "15/15 [==============================] - 0s 10ms/step - loss: 0.1745 - accuracy: 0.9514\n",
            "Epoch 399/500\n",
            "15/15 [==============================] - 0s 10ms/step - loss: 0.1735 - accuracy: 0.9492\n",
            "Epoch 400/500\n",
            "15/15 [==============================] - 0s 10ms/step - loss: 0.1729 - accuracy: 0.9514\n",
            "Epoch 401/500\n",
            "15/15 [==============================] - 0s 9ms/step - loss: 0.1718 - accuracy: 0.9514\n",
            "Epoch 402/500\n",
            "15/15 [==============================] - 0s 10ms/step - loss: 0.1711 - accuracy: 0.9492\n",
            "Epoch 403/500\n",
            "15/15 [==============================] - 0s 9ms/step - loss: 0.1705 - accuracy: 0.9514\n",
            "Epoch 404/500\n",
            "15/15 [==============================] - 0s 10ms/step - loss: 0.1701 - accuracy: 0.9514\n",
            "Epoch 405/500\n",
            "15/15 [==============================] - 0s 11ms/step - loss: 0.1858 - accuracy: 0.9470\n",
            "Epoch 406/500\n",
            "15/15 [==============================] - 0s 10ms/step - loss: 0.2087 - accuracy: 0.9382\n",
            "Epoch 407/500\n",
            "15/15 [==============================] - 0s 10ms/step - loss: 0.2103 - accuracy: 0.9448\n",
            "Epoch 408/500\n",
            "15/15 [==============================] - 0s 10ms/step - loss: 0.2140 - accuracy: 0.9426\n",
            "Epoch 409/500\n",
            "15/15 [==============================] - 0s 9ms/step - loss: 0.2081 - accuracy: 0.9360\n",
            "Epoch 410/500\n",
            "15/15 [==============================] - 0s 10ms/step - loss: 0.2417 - accuracy: 0.9404\n",
            "Epoch 411/500\n",
            "15/15 [==============================] - 0s 11ms/step - loss: 0.2505 - accuracy: 0.9294\n",
            "Epoch 412/500\n",
            "15/15 [==============================] - 0s 10ms/step - loss: 0.2220 - accuracy: 0.9338\n",
            "Epoch 413/500\n",
            "15/15 [==============================] - 0s 10ms/step - loss: 0.3341 - accuracy: 0.9183\n",
            "Epoch 414/500\n",
            "15/15 [==============================] - 0s 9ms/step - loss: 0.3346 - accuracy: 0.9183\n",
            "Epoch 415/500\n",
            "15/15 [==============================] - 0s 10ms/step - loss: 0.2622 - accuracy: 0.9360\n",
            "Epoch 416/500\n",
            "15/15 [==============================] - 0s 10ms/step - loss: 0.2535 - accuracy: 0.9448\n",
            "Epoch 417/500\n",
            "15/15 [==============================] - 0s 11ms/step - loss: 0.2325 - accuracy: 0.9470\n",
            "Epoch 418/500\n",
            "15/15 [==============================] - 0s 10ms/step - loss: 0.2146 - accuracy: 0.9448\n",
            "Epoch 419/500\n",
            "15/15 [==============================] - 0s 10ms/step - loss: 0.2009 - accuracy: 0.9492\n",
            "Epoch 420/500\n",
            "15/15 [==============================] - 0s 10ms/step - loss: 0.1940 - accuracy: 0.9514\n",
            "Epoch 421/500\n",
            "15/15 [==============================] - 0s 10ms/step - loss: 0.1890 - accuracy: 0.9514\n",
            "Epoch 422/500\n",
            "15/15 [==============================] - 0s 10ms/step - loss: 0.1879 - accuracy: 0.9492\n",
            "Epoch 423/500\n",
            "15/15 [==============================] - 0s 11ms/step - loss: 0.1867 - accuracy: 0.9514\n",
            "Epoch 424/500\n",
            "15/15 [==============================] - 0s 10ms/step - loss: 0.1833 - accuracy: 0.9514\n",
            "Epoch 425/500\n",
            "15/15 [==============================] - 0s 10ms/step - loss: 0.1805 - accuracy: 0.9470\n",
            "Epoch 426/500\n",
            "15/15 [==============================] - 0s 10ms/step - loss: 0.1782 - accuracy: 0.9492\n",
            "Epoch 427/500\n",
            "15/15 [==============================] - 0s 9ms/step - loss: 0.1760 - accuracy: 0.9492\n",
            "Epoch 428/500\n",
            "15/15 [==============================] - 0s 10ms/step - loss: 0.1745 - accuracy: 0.9514\n",
            "Epoch 429/500\n",
            "15/15 [==============================] - 0s 10ms/step - loss: 0.1737 - accuracy: 0.9514\n",
            "Epoch 430/500\n",
            "15/15 [==============================] - 0s 10ms/step - loss: 0.1728 - accuracy: 0.9514\n",
            "Epoch 431/500\n",
            "15/15 [==============================] - 0s 11ms/step - loss: 0.1725 - accuracy: 0.9492\n",
            "Epoch 432/500\n",
            "15/15 [==============================] - 0s 10ms/step - loss: 0.1712 - accuracy: 0.9492\n",
            "Epoch 433/500\n",
            "15/15 [==============================] - 0s 10ms/step - loss: 0.1707 - accuracy: 0.9492\n",
            "Epoch 434/500\n",
            "15/15 [==============================] - 0s 10ms/step - loss: 0.1694 - accuracy: 0.9514\n",
            "Epoch 435/500\n",
            "15/15 [==============================] - 0s 9ms/step - loss: 0.1685 - accuracy: 0.9470\n",
            "Epoch 436/500\n",
            "15/15 [==============================] - 0s 11ms/step - loss: 0.1673 - accuracy: 0.9492\n",
            "Epoch 437/500\n",
            "15/15 [==============================] - 0s 10ms/step - loss: 0.1672 - accuracy: 0.9492\n",
            "Epoch 438/500\n",
            "15/15 [==============================] - 0s 10ms/step - loss: 0.1664 - accuracy: 0.9492\n",
            "Epoch 439/500\n",
            "15/15 [==============================] - 0s 10ms/step - loss: 0.1661 - accuracy: 0.9492\n",
            "Epoch 440/500\n",
            "15/15 [==============================] - 0s 11ms/step - loss: 0.1648 - accuracy: 0.9514\n",
            "Epoch 441/500\n",
            "15/15 [==============================] - 0s 11ms/step - loss: 0.1637 - accuracy: 0.9514\n",
            "Epoch 442/500\n",
            "15/15 [==============================] - 0s 10ms/step - loss: 0.1621 - accuracy: 0.9514\n",
            "Epoch 443/500\n",
            "15/15 [==============================] - 0s 11ms/step - loss: 0.1619 - accuracy: 0.9536\n",
            "Epoch 444/500\n",
            "15/15 [==============================] - 0s 9ms/step - loss: 0.1604 - accuracy: 0.9536\n",
            "Epoch 445/500\n",
            "15/15 [==============================] - 0s 10ms/step - loss: 0.1597 - accuracy: 0.9514\n",
            "Epoch 446/500\n",
            "15/15 [==============================] - 0s 10ms/step - loss: 0.1585 - accuracy: 0.9514\n",
            "Epoch 447/500\n",
            "15/15 [==============================] - 0s 10ms/step - loss: 0.1576 - accuracy: 0.9514\n",
            "Epoch 448/500\n",
            "15/15 [==============================] - 0s 10ms/step - loss: 0.1576 - accuracy: 0.9536\n",
            "Epoch 449/500\n",
            "15/15 [==============================] - 0s 11ms/step - loss: 0.1560 - accuracy: 0.9470\n",
            "Epoch 450/500\n",
            "15/15 [==============================] - 0s 11ms/step - loss: 0.1553 - accuracy: 0.9448\n",
            "Epoch 451/500\n",
            "15/15 [==============================] - 0s 10ms/step - loss: 0.1547 - accuracy: 0.9536\n",
            "Epoch 452/500\n",
            "15/15 [==============================] - 0s 10ms/step - loss: 0.1543 - accuracy: 0.9492\n",
            "Epoch 453/500\n",
            "15/15 [==============================] - 0s 10ms/step - loss: 0.1542 - accuracy: 0.9492\n",
            "Epoch 454/500\n",
            "15/15 [==============================] - 0s 10ms/step - loss: 0.1538 - accuracy: 0.9492\n",
            "Epoch 455/500\n",
            "15/15 [==============================] - 0s 11ms/step - loss: 0.1533 - accuracy: 0.9492\n",
            "Epoch 456/500\n",
            "15/15 [==============================] - 0s 12ms/step - loss: 0.1524 - accuracy: 0.9492\n",
            "Epoch 457/500\n",
            "15/15 [==============================] - 0s 10ms/step - loss: 0.1518 - accuracy: 0.9514\n",
            "Epoch 458/500\n",
            "15/15 [==============================] - 0s 11ms/step - loss: 0.1519 - accuracy: 0.9514\n",
            "Epoch 459/500\n",
            "15/15 [==============================] - 0s 10ms/step - loss: 0.1514 - accuracy: 0.9514\n",
            "Epoch 460/500\n",
            "15/15 [==============================] - 0s 10ms/step - loss: 0.1508 - accuracy: 0.9492\n",
            "Epoch 461/500\n",
            "15/15 [==============================] - 0s 11ms/step - loss: 0.1503 - accuracy: 0.9492\n",
            "Epoch 462/500\n",
            "15/15 [==============================] - 0s 10ms/step - loss: 0.1493 - accuracy: 0.9470\n",
            "Epoch 463/500\n",
            "15/15 [==============================] - 0s 10ms/step - loss: 0.1490 - accuracy: 0.9514\n",
            "Epoch 464/500\n",
            "15/15 [==============================] - 0s 10ms/step - loss: 0.1485 - accuracy: 0.9514\n",
            "Epoch 465/500\n",
            "15/15 [==============================] - 0s 11ms/step - loss: 0.1477 - accuracy: 0.9514\n",
            "Epoch 466/500\n",
            "15/15 [==============================] - 0s 10ms/step - loss: 0.1472 - accuracy: 0.9536\n",
            "Epoch 467/500\n",
            "15/15 [==============================] - 0s 11ms/step - loss: 0.1463 - accuracy: 0.9514\n",
            "Epoch 468/500\n",
            "15/15 [==============================] - 0s 10ms/step - loss: 0.1455 - accuracy: 0.9514\n",
            "Epoch 469/500\n",
            "15/15 [==============================] - 0s 11ms/step - loss: 0.1457 - accuracy: 0.9514\n",
            "Epoch 470/500\n",
            "15/15 [==============================] - 0s 11ms/step - loss: 0.1443 - accuracy: 0.9492\n",
            "Epoch 471/500\n",
            "15/15 [==============================] - 0s 10ms/step - loss: 0.1435 - accuracy: 0.9492\n",
            "Epoch 472/500\n",
            "15/15 [==============================] - 0s 10ms/step - loss: 0.1439 - accuracy: 0.9514\n",
            "Epoch 473/500\n",
            "15/15 [==============================] - 0s 12ms/step - loss: 0.1427 - accuracy: 0.9470\n",
            "Epoch 474/500\n",
            "15/15 [==============================] - 0s 10ms/step - loss: 0.1429 - accuracy: 0.9470\n",
            "Epoch 475/500\n",
            "15/15 [==============================] - 0s 10ms/step - loss: 0.1423 - accuracy: 0.9536\n",
            "Epoch 476/500\n",
            "15/15 [==============================] - 0s 10ms/step - loss: 0.1418 - accuracy: 0.9492\n",
            "Epoch 477/500\n",
            "15/15 [==============================] - 0s 10ms/step - loss: 0.1409 - accuracy: 0.9514\n",
            "Epoch 478/500\n",
            "15/15 [==============================] - 0s 10ms/step - loss: 0.1402 - accuracy: 0.9514\n",
            "Epoch 479/500\n",
            "15/15 [==============================] - 0s 10ms/step - loss: 0.1398 - accuracy: 0.9492\n",
            "Epoch 480/500\n",
            "15/15 [==============================] - 0s 10ms/step - loss: 0.1394 - accuracy: 0.9514\n",
            "Epoch 481/500\n",
            "15/15 [==============================] - 0s 10ms/step - loss: 0.1389 - accuracy: 0.9492\n",
            "Epoch 482/500\n",
            "15/15 [==============================] - 0s 10ms/step - loss: 0.1382 - accuracy: 0.9492\n",
            "Epoch 483/500\n",
            "15/15 [==============================] - 0s 10ms/step - loss: 0.1385 - accuracy: 0.9470\n",
            "Epoch 484/500\n",
            "15/15 [==============================] - 0s 10ms/step - loss: 0.1382 - accuracy: 0.9492\n",
            "Epoch 485/500\n",
            "15/15 [==============================] - 0s 10ms/step - loss: 0.1380 - accuracy: 0.9492\n",
            "Epoch 486/500\n",
            "15/15 [==============================] - 0s 11ms/step - loss: 0.1370 - accuracy: 0.9536\n",
            "Epoch 487/500\n",
            "15/15 [==============================] - 0s 10ms/step - loss: 0.1376 - accuracy: 0.9514\n",
            "Epoch 488/500\n",
            "15/15 [==============================] - 0s 10ms/step - loss: 0.1361 - accuracy: 0.9536\n",
            "Epoch 489/500\n",
            "15/15 [==============================] - 0s 10ms/step - loss: 0.1369 - accuracy: 0.9492\n",
            "Epoch 490/500\n",
            "15/15 [==============================] - 0s 10ms/step - loss: 0.1366 - accuracy: 0.9470\n",
            "Epoch 491/500\n",
            "15/15 [==============================] - 0s 10ms/step - loss: 0.1372 - accuracy: 0.9470\n",
            "Epoch 492/500\n",
            "15/15 [==============================] - 0s 11ms/step - loss: 0.1352 - accuracy: 0.9514\n",
            "Epoch 493/500\n",
            "15/15 [==============================] - 0s 10ms/step - loss: 0.1347 - accuracy: 0.9492\n",
            "Epoch 494/500\n",
            "15/15 [==============================] - 0s 10ms/step - loss: 0.1343 - accuracy: 0.9492\n",
            "Epoch 495/500\n",
            "15/15 [==============================] - 0s 10ms/step - loss: 0.1332 - accuracy: 0.9536\n",
            "Epoch 496/500\n",
            "15/15 [==============================] - 0s 11ms/step - loss: 0.1335 - accuracy: 0.9492\n",
            "Epoch 497/500\n",
            "15/15 [==============================] - 0s 10ms/step - loss: 0.1330 - accuracy: 0.9426\n",
            "Epoch 498/500\n",
            "15/15 [==============================] - 0s 11ms/step - loss: 0.1326 - accuracy: 0.9470\n",
            "Epoch 499/500\n",
            "15/15 [==============================] - 0s 10ms/step - loss: 0.1326 - accuracy: 0.9470\n",
            "Epoch 500/500\n",
            "15/15 [==============================] - 0s 10ms/step - loss: 0.1335 - accuracy: 0.9492\n"
          ]
        }
      ],
      "source": [
        "# Train the model\n",
        "history = model.fit(xs, ys, epochs=500)"
      ]
    },
    {
      "cell_type": "markdown",
      "metadata": {
        "id": "hRwgZjJxDTqh"
      },
      "source": [
        "\n",
        "您可以使用下面的實用程序可視化結果。使用默認設置，您應該在 500 個 epoch 後看到大約 95% 的準確度。"
      ]
    },
    {
      "cell_type": "code",
      "execution_count": null,
      "metadata": {
        "id": "3YXGelKThoTT",
        "colab": {
          "base_uri": "https://localhost:8080/",
          "height": 279
        },
        "outputId": "fc48328e-0820-4bca-a478-c3ab4bad7b3b"
      },
      "outputs": [
        {
          "output_type": "display_data",
          "data": {
            "text/plain": [
              "<Figure size 432x288 with 1 Axes>"
            ],
            "image/png": "[encoded data removed]"
          },
          "metadata": {
            "needs_background": "light"
          }
        }
      ],
      "source": [
        "import matplotlib.pyplot as plt\n",
        "\n",
        "# Plot utility\n",
        "def plot_graphs(history, string):\n",
        "  plt.plot(history.history[string])\n",
        "  plt.xlabel(\"Epochs\")\n",
        "  plt.ylabel(string)\n",
        "  plt.show()\n",
        "\n",
        "# Visualize the accuracy\n",
        "plot_graphs(history, 'accuracy')"
      ]
    },
    {
      "cell_type": "markdown",
      "metadata": {
        "id": "NUmA472NDn_v"
      },
      "source": [
        "## 生成文本\n",
        "\n",
        "通過訓練模型，您現在可以使用它來製作自己的歌曲！該過程如下所示：\n",
        "\n",
        "1. 輸入種子文本以啟動該過程。\n",
        "2. 模型預測最可能的下一個詞的索引。\n",
        "3.在逆詞索引詞典中查找索引\n",
        "4. 將下一個單詞附加到種子文本中。\n",
        "5. 再次將結果輸入模型。\n",
        "\n",
        "將重複步驟 2 到 5，直到達到所需的歌曲長度。看看它是如何在下面的代碼中實現的："
      ]
    },
    {
      "cell_type": "code",
      "execution_count": null,
      "metadata": {
        "id": "6Vc6PHgxa6Hm",
        "colab": {
          "base_uri": "https://localhost:8080/"
        },
        "outputId": "bd3a5ec6-2ab2-4baf-a9b7-907c40738908"
      },
      "outputs": [
        {
          "output_type": "stream",
          "name": "stdout",
          "text": [
            "Laurence went to Dublin the left pound row near groups groups strangled satisfaction at me me stepped oh casey lanigans ball ball me stepped were away were merry were merry as bees steps for lanigans ball all ball lanigans ball together the girls away they all were hearty hearty might ask hall ask hall hall hall hall hall hall hall hall hall hall hall hall hall hall hall hall hall hall hall hall hall hall hall hall hall hall hall hall hall hall hall hall hall hall hall hall hall hall hall hall hall hall hall hall hall hall hall hall hall hall hall\n"
          ]
        }
      ],
      "source": [
        "# 定義種子文本\n",
        "seed_text = \"Laurence went to Dublin\"\n",
        "\n",
        "# 定義要預測的總詞數\n",
        "next_words = 100\n",
        "\n",
        "# 循環直到達到所需長度\n",
        "for _ in range(next_words):\n",
        "\n",
        "\t# 將種子文本轉換為標記序列\n",
        "\ttoken_list = tokenizer.texts_to_sequences([seed_text])[0]\n",
        "\n",
        "\t# 填充序列\n",
        "\ttoken_list = pad_sequences([token_list], maxlen=max_sequence_len-1, padding='pre')\n",
        "\t\n",
        "\t# 輸入模型並獲取每個索引的概率\n",
        "\tprobabilities = model.predict(token_list)\n",
        "\n",
        "\t# 獲取概率最高的索引\n",
        "\tpredicted = np.argmax(probabilities, axis=-1)[0]\n",
        "\n",
        "\t# 如果 index 為 0 則忽略，因為這只是填充。\n",
        "\tif predicted != 0:\n",
        "\t\t\n",
        "\t\t# 查找與索引關聯的單詞。\n",
        "\t\toutput_word = tokenizer.index_word[predicted]\n",
        "\n",
        "\t\t# 結合種子文本\n",
        "\t\tseed_text += \" \" + output_word\n",
        "\n",
        "# 打印結果\n",
        "print(seed_text)"
      ]
    },
    {
      "cell_type": "markdown",
      "metadata": {
        "id": "HU7eZOKiFydr"
      },
      "source": [
        "在上面的輸出中，您可能會注意到句子越長，單詞就會頻繁重複。有辦法繞過它，下一個單元格顯示一個。基本上，您將獲得前三個索引並隨機選擇一個，而不是獲得最大概率的索引。看看使用這種方法輸出文本是否更有意義。這不是最省時的解決方案，因為即使您只需要前三個，它也總是對整個數組進行排序。隨意改進它，當然，您也可以開發自己的選擇下一個單詞的方法。"
      ]
    },
    {
      "cell_type": "code",
      "source": [
        "seed_text = \"Laurence went to Dublin\"\n",
        "token_list = tokenizer.texts_to_sequences([seed_text])[0]\n",
        "token_list = pad_sequences([token_list], maxlen=max_sequence_len-1, padding='pre')\n",
        "probabilities = model.predict(token_list)\n",
        "probabilities"
      ],
      "metadata": {
        "id": "25JAwijkRW6J"
      },
      "execution_count": null,
      "outputs": []
    },
    {
      "cell_type": "code",
      "source": [
        "choice = np.random.choice([1,2,3])\n",
        "choice"
      ],
      "metadata": {
        "colab": {
          "base_uri": "https://localhost:8080/"
        },
        "id": "pAq46xPBRqwP",
        "outputId": "cf89cab6-b191-423d-a7fd-e20878b36f91"
      },
      "execution_count": null,
      "outputs": [
        {
          "output_type": "execute_result",
          "data": {
            "text/plain": [
              "3"
            ]
          },
          "metadata": {},
          "execution_count": 97
        }
      ]
    },
    {
      "cell_type": "code",
      "source": [
        "predicted = np.argsort(probabilities)[0][-choice]"
      ],
      "metadata": {
        "id": "PEkKHd3GRvXN"
      },
      "execution_count": null,
      "outputs": []
    },
    {
      "cell_type": "code",
      "source": [
        "d = np.argsort(probabilities)[0]"
      ],
      "metadata": {
        "id": "uBIY9a5CR05E"
      },
      "execution_count": null,
      "outputs": []
    },
    {
      "cell_type": "code",
      "source": [
        "d"
      ],
      "metadata": {
        "colab": {
          "base_uri": "https://localhost:8080/"
        },
        "id": "RcuJ8evaR2tV",
        "outputId": "7428a4ee-083d-4405-a020-e09e58c9d393"
      },
      "execution_count": null,
      "outputs": [
        {
          "output_type": "execute_result",
          "data": {
            "text/plain": [
              "array([245,  95, 141,  55, 193, 218, 202,  97,  69, 159,  96, 181,  70,\n",
              "       105, 147, 183, 184,  94, 262, 120, 229, 220, 173, 171, 167, 250,\n",
              "       153, 215,  68, 228, 246, 204, 103, 244,  77, 118, 170,  93, 214,\n",
              "       191, 231,  74,  92, 240, 207, 180,  91, 106, 260, 130,  63, 201,\n",
              "       192, 255, 185, 257, 168,  88, 249, 128,  72, 187,  36, 223, 182,\n",
              "       146, 203, 158, 258, 189, 133, 109, 247, 119, 163, 104, 132, 111,\n",
              "       113, 194,  85,  46, 142, 197, 156,  71, 125, 233, 110,   0, 212,\n",
              "       235, 117,  57, 221, 188, 157, 230, 186, 136, 145,  87,  67,  82,\n",
              "        79, 224, 211, 254, 259, 242, 219, 241, 198,  90, 217, 200, 176,\n",
              "       225, 253, 140, 116, 131,  80,  24, 179, 166,  83, 169, 155,  22,\n",
              "       102, 227,  81, 107,  35,  32,  64,  43, 139,  86, 129, 234, 134,\n",
              "        78, 101, 196,  31, 150, 178, 239, 243, 135, 127, 172, 112, 175,\n",
              "       206,  65,  56,  84, 261,  99,  75,  60, 210, 114,  45,  73, 123,\n",
              "        30, 154,  66,  76,  28,  21, 152,  44, 177, 205, 248, 100,  98,\n",
              "       124, 236, 195, 174, 252, 126,  58, 151, 160, 190,  29,  53,  48,\n",
              "        61,  89, 144,  59, 209,  33, 164, 213, 238, 138, 137,  62,  12,\n",
              "        38, 165, 199,   7, 162,  18, 226, 161,  10, 108,  52,  13, 237,\n",
              "       149, 122, 256,  47, 148,  37,  14, 232,  41, 115, 143, 121,  23,\n",
              "         9,  26, 216,   1, 222,  42,  17,  20,   6,   4, 251, 208,  25,\n",
              "        15,  19,   5,  27,  39,  11,  54,  49,  51,  40,   8,  34,  16,\n",
              "        50,   3,   2])"
            ]
          },
          "metadata": {},
          "execution_count": 107
        }
      ]
    },
    {
      "cell_type": "code",
      "source": [
        "predicted"
      ],
      "metadata": {
        "colab": {
          "base_uri": "https://localhost:8080/"
        },
        "id": "tBH-z8m_RynV",
        "outputId": "db6c361b-e1da-417a-e9b4-8cfa1c88ab50"
      },
      "execution_count": null,
      "outputs": [
        {
          "output_type": "execute_result",
          "data": {
            "text/plain": [
              "50"
            ]
          },
          "metadata": {},
          "execution_count": 99
        }
      ]
    },
    {
      "cell_type": "code",
      "execution_count": null,
      "metadata": {
        "id": "JZqJKIpgkiYt",
        "colab": {
          "base_uri": "https://localhost:8080/"
        },
        "outputId": "0e8b1cf3-8b6b-4c40-e695-307e4ea8d3e1"
      },
      "outputs": [
        {
          "output_type": "stream",
          "name": "stdout",
          "text": [
            "Laurence went to Dublin merry and the harp that groups milliner strangled ask odaly swore might odaly ask might wall ned hall hall ask glisten odaly them away me lanigans ball me ball me me me stepped as stepped oh stepped for again a her relations might mchugh hall mchugh satisfaction me round ball me stepped went rose again rose as ned rose rose cask rose died rose for her harp relations might further youll ogradys youll mchugh ask hall hall hall glisten glisten didnt i them round spent odaly them round gave a glisten water water red entangled me stepped were as give\n"
          ]
        }
      ],
      "source": [
        "# 定義種子文本\n",
        "seed_text = \"Laurence went to Dublin\"\n",
        "\n",
        "# 定義要預測的總詞數\n",
        "next_words = 100\n",
        "\n",
        "# 循環直到達到所需長度\n",
        "for _ in range(next_words):\n",
        "\n",
        "\t# 將種子文本轉換為標記序列\n",
        "  token_list = tokenizer.texts_to_sequences([seed_text])[0]\n",
        "\n",
        "\t# 填充序列\n",
        "  token_list = pad_sequences([token_list], maxlen=max_sequence_len-1, padding='pre')\n",
        "\t\n",
        "\t# 輸入模型並獲取每個索引的概率\n",
        "  probabilities = model.predict(token_list)\n",
        "\n",
        "  # 從 [1,2,3] 中選擇一個隨機數\n",
        "  choice = np.random.choice([1,2,3])\n",
        "\t\n",
        "  # 按升序對概率進行排序\n",
        "  # 並從數組末尾獲取隨機選擇\n",
        "  predicted = np.argsort(probabilities)[0][-choice]\n",
        "\n",
        "\t# 如果 index 為 0 則忽略，因為這只是填充\n",
        "  if predicted != 0:\n",
        "\t\t\n",
        "\t\t# 查找與索引關聯的單詞。 \n",
        "\t  output_word = tokenizer.index_word[predicted]\n",
        "\n",
        "\t\t# 結合種子文本\n",
        "\t  seed_text += \" \" + output_word\n",
        "\n",
        "# 打印結果\t\n",
        "print(seed_text)"
      ]
    },
    {
      "cell_type": "markdown",
      "metadata": {
        "id": "dXg6aEu5dKiV"
      },
      "source": [
        "##包起來\n",
        "\n",
        "在本實驗中，您首先了解了準備數據和構建文本生成模型。在這個特定的練習中，語料庫相當小，在接下來的課程中，您將使用更大的文本構建一個語料庫。到時候那裡見！"
      ]
    }
  ],
  "metadata": {
    "colab": {
      "collapsed_sections": [],
      "provenance": [],
      "include_colab_link": true
    },
    "kernelspec": {
      "display_name": "Python 3",
      "language": "python",
      "name": "python3"
    },
    "language_info": {
      "codemirror_mode": {
        "name": "ipython",
        "version": 3
      },
      "file_extension": ".py",
      "mimetype": "text/x-python",
      "name": "python",
      "nbconvert_exporter": "python",
      "pygments_lexer": "ipython3",
      "version": "3.7.4"
    }
  },
  "nbformat": 4,
  "nbformat_minor": 0
}